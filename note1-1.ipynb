{
 "cells": [
  {
   "cell_type": "markdown",
   "metadata": {
    "id": "ZIr5UWGQfPks"
   },
   "source": [
    "# Python の基本的な構文とGoogle Colabの使いかたを学ぶ"
   ]
  },
  {
   "cell_type": "code",
   "execution_count": 61,
   "metadata": {
    "colab": {
     "base_uri": "https://localhost:8080/"
    },
    "id": "FxPqIRyDe1fv",
    "outputId": "36de9e9b-e744-43eb-ba7f-03915b94aaf5"
   },
   "outputs": [
    {
     "name": "stdout",
     "output_type": "stream",
     "text": [
      "1\n",
      "1.33333\n",
      "hoge\n",
      "[1, 2, 3]\n"
     ]
    }
   ],
   "source": [
    "# 変数\n",
    "\n",
    "a = 1\n",
    "print (a)\n",
    "\n",
    "b = 1.33333\n",
    "print (b)\n",
    "\n",
    "c = \"hoge\"\n",
    "print (c)\n",
    "\n",
    "d = [1,2,3]\n",
    "print (d)\n",
    "\n",
    "e = {\"a\":1, \"b\":2}"
   ]
  },
  {
   "cell_type": "code",
   "execution_count": 62,
   "metadata": {
    "colab": {
     "base_uri": "https://localhost:8080/"
    },
    "id": "dLqEM4cxfL53",
    "outputId": "1f089821-26a3-49d0-bd19-5ea47cbef2ff"
   },
   "outputs": [
    {
     "name": "stdout",
     "output_type": "stream",
     "text": [
      "<class 'int'>\n",
      "<class 'float'>\n",
      "<class 'str'>\n",
      "<class 'list'>\n",
      "<class 'dict'>\n"
     ]
    }
   ],
   "source": [
    "# 変数の型を確認\n",
    "\n",
    "print (type(a))\n",
    "print (type(b))\n",
    "print (type(c))\n",
    "print (type(d))\n",
    "print (type(e))"
   ]
  },
  {
   "cell_type": "code",
   "execution_count": 63,
   "metadata": {
    "colab": {
     "base_uri": "https://localhost:8080/"
    },
    "id": "OtINAYyQfsnF",
    "outputId": "2285a790-9334-4ea0-ec1c-0c084ec514fb"
   },
   "outputs": [
    {
     "name": "stdout",
     "output_type": "stream",
     "text": [
      "1 1.33333 hoge [1, 2, 3]\n",
      "1 + 1.33333 = 2.33333\n",
      "1.3\n"
     ]
    }
   ],
   "source": [
    "# 型が違う変数も , で区切れば簡単に表示できる\n",
    "print (a, b, c, d)\n",
    "print (a, \"+\", b, \"=\", a+b)\n",
    "\n",
    "# C言語の printf のように、%s, %d, %f による書式指定もできる  \n",
    "print (\"%.1f\" % b)\n"
   ]
  },
  {
   "cell_type": "code",
   "execution_count": 64,
   "metadata": {
    "colab": {
     "base_uri": "https://localhost:8080/"
    },
    "id": "jC5Mz_dYf5UW",
    "outputId": "c6803f48-3ac8-4d39-f2a4-90de2a52893e"
   },
   "outputs": [
    {
     "name": "stdout",
     "output_type": "stream",
     "text": [
      "hoge\n",
      "h\n",
      "e\n",
      "hogetest\n",
      "hogehogehoge\n",
      "1+1.33333=2.33333\n"
     ]
    }
   ],
   "source": [
    "# 文字列の操作\n",
    "\n",
    "print (c)\n",
    "# 文字の抜き出しも可能。0 からはじまります\n",
    "print (c[0])\n",
    "# -1 で最後から1文字目を抜き出せます。-2 とすると最後から2文字目となります。\n",
    "print (c[-1])\n",
    "\n",
    "# 文字列の連結も + でできる\n",
    "cc = c + \"test\"\n",
    "print (cc)\n",
    "\n",
    "# 繰り返しも * でできる\n",
    "cc = c * 3\n",
    "print (cc)\n",
    "\n",
    "# + で文字列を連結できるので、数字は str() で文字列に変換するとなにかと便利です。\n",
    "tmp = str(a) + \"+\" + str(b) + \"=\" + str(a+b)\n",
    "print (tmp)"
   ]
  },
  {
   "cell_type": "code",
   "execution_count": 65,
   "metadata": {
    "colab": {
     "base_uri": "https://localhost:8080/",
     "height": 181
    },
    "id": "ahalOXnVgaaH",
    "outputId": "5dbc67bf-6d13-4bc4-b72f-3ee9ed8a0230"
   },
   "outputs": [
    {
     "ename": "IndexError",
     "evalue": "ignored",
     "output_type": "error",
     "traceback": [
      "\u001b[0;31m---------------------------------------------------------------------------\u001b[0m",
      "\u001b[0;31mIndexError\u001b[0m                                Traceback (most recent call last)",
      "\u001b[0;32m<ipython-input-65-fcc945c5a49e>\u001b[0m in \u001b[0;36m<module>\u001b[0;34m()\u001b[0m\n\u001b[1;32m      1\u001b[0m \u001b[0;31m# 実行してもエラーが出るので注意。インデックスは5を指定しているが文字が足りないのでエラーが起きる。\u001b[0m\u001b[0;34m\u001b[0m\u001b[0;34m\u001b[0m\u001b[0;34m\u001b[0m\u001b[0m\n\u001b[0;32m----> 2\u001b[0;31m \u001b[0mprint\u001b[0m \u001b[0;34m(\u001b[0m\u001b[0mc\u001b[0m\u001b[0;34m[\u001b[0m\u001b[0;36m5\u001b[0m\u001b[0;34m]\u001b[0m\u001b[0;34m)\u001b[0m\u001b[0;34m\u001b[0m\u001b[0;34m\u001b[0m\u001b[0m\n\u001b[0m",
      "\u001b[0;31mIndexError\u001b[0m: string index out of range"
     ]
    }
   ],
   "source": [
    "# 実行してもエラーが出るので注意。インデックスは5を指定しているが文字が足りないのでエラーが起きる。\n",
    "print (c[5])\n"
   ]
  },
  {
   "cell_type": "code",
   "execution_count": 66,
   "metadata": {
    "colab": {
     "base_uri": "https://localhost:8080/"
    },
    "id": "6whl1zLogojM",
    "outputId": "6ed8249e-f3b1-4ea0-9ca1-fa1fd965e4e2"
   },
   "outputs": [
    {
     "name": "stdout",
     "output_type": "stream",
     "text": [
      "[1, 2, 3]\n",
      "1\n",
      "3\n",
      "3\n",
      "[1, 2, 3, 4]\n",
      "[1, 2, 3, 4, 1, 2, 3, 4]\n"
     ]
    }
   ],
   "source": [
    "# 数値とリストの操作\n",
    "# このセルだけを何度も実行すると d の値が上書きされて、結果が変わることを確かめて下さい。\n",
    "# Jupyter notebook の使う場合、変数の初期化に注意が必要なことがわかります。\n",
    "\n",
    "print (d)\n",
    "# 文字の抜き出しも可能。0 からはじまります\n",
    "print (d[0])\n",
    "# -1 で最後から1文字を抜き出せます\n",
    "print (d[-1])\n",
    "# リストの長さは len で抜き出せます\n",
    "print (len(d))\n",
    "\n",
    "# append()リストの末尾に要素を追加できる\n",
    "d.append(4)\n",
    "print (d)\n",
    "\n",
    "#リストの連結も + でできる\n",
    "print (d + d)"
   ]
  },
  {
   "cell_type": "code",
   "execution_count": 67,
   "metadata": {
    "colab": {
     "base_uri": "https://localhost:8080/"
    },
    "id": "GCqh4zrbgxVb",
    "outputId": "29857a16-a529-4d08-b8fb-ac0dfd866668"
   },
   "outputs": [
    {
     "name": "stdout",
     "output_type": "stream",
     "text": [
      "['SUN', 1, 'MON', 2]\n",
      "<class 'str'>\n",
      "<class 'int'>\n"
     ]
    }
   ],
   "source": [
    "# Cとは違い、文字列と数字を混ぜたリストも簡単に作ることができる。\n",
    "s = [\"SUN\", 1, \"MON\", 2]\n",
    "print (s)\n",
    "\n",
    "print (type(s[0]))\n",
    "print (type(s[1]))\n"
   ]
  },
  {
   "cell_type": "code",
   "execution_count": 68,
   "metadata": {
    "colab": {
     "base_uri": "https://localhost:8080/"
    },
    "id": "P3a96L2UgzgI",
    "outputId": "4d8fe12f-b8d1-4028-b791-faee72b13f32"
   },
   "outputs": [
    {
     "name": "stdout",
     "output_type": "stream",
     "text": [
      "1\n",
      "dict_keys(['a', 'b'])\n"
     ]
    }
   ],
   "source": [
    "# 辞書型も便利便利\n",
    "\n",
    "dic_data = {\"a\":1, \"b\":2}\n",
    "print (dic_data[\"a\"])\n",
    "# キーを抽出できる\n",
    "print (dic_data.keys()) \n"
   ]
  },
  {
   "cell_type": "code",
   "execution_count": 69,
   "metadata": {
    "colab": {
     "base_uri": "https://localhost:8080/"
    },
    "id": "qpCaCwGxhAdI",
    "outputId": "34c6db86-9e58-416f-b322-b0ec85dc520d"
   },
   "outputs": [
    {
     "name": "stdout",
     "output_type": "stream",
     "text": [
      "True\n",
      "<class 'bool'>\n",
      "xは10以上20以下\n",
      "xは10以上または20以下\n",
      "xは0以下ではない\n"
     ]
    }
   ],
   "source": [
    "# Boolean型（真と偽）の使い方使い方\n",
    "# 基本的にはC言語と同様の感覚で使えます。\n",
    "# 比較演算子: ==, !=, <, >, <=, >=\n",
    "# 論理演算子: and, or, not\n",
    "# ただし、型がたくさんあるため以下のような判断がされています。\n",
    "# 数値の場合は0(0や0.0など)は偽(False)、0以外は真(True)\n",
    "# 文字列の場合は空文字列(\"\")は偽(False)、\"\"以外は真(True)\n",
    "# 空のリスト[]などは偽(False)\n",
    "# BooleanType型の「True」は真(true)、BooleanType型の「False」は偽(false)\n",
    "# NoneType型の「None」は偽(false)\n",
    "\n",
    "x = 15\n",
    "\n",
    "print(x > 10)\n",
    "print(type(x > 10))\n",
    "\n",
    "if x >= 10 and x <= 20:\n",
    "    print(\"xは10以上20以下\")\n",
    "    \n",
    "if x >= 10 or x <= 20:\n",
    "    print(\"xは10以上または20以下\")\n",
    "    \n",
    "if not x <= 0:\n",
    "    print (\"xは0以下ではない\")"
   ]
  },
  {
   "cell_type": "code",
   "execution_count": 70,
   "metadata": {
    "colab": {
     "base_uri": "https://localhost:8080/"
    },
    "id": "OxY-1kpwhble",
    "outputId": "77aac6d0-c795-4655-e36e-0c7ddfd2ddea"
   },
   "outputs": [
    {
     "name": "stdout",
     "output_type": "stream",
     "text": [
      "in\n"
     ]
    }
   ],
   "source": [
    "# リストの中に特定の値があるかを in を使って簡単に判定することができます。\n",
    "x = 1\n",
    "if x in [2,1,3]:\n",
    "    print (\"in\")"
   ]
  },
  {
   "cell_type": "code",
   "execution_count": 74,
   "metadata": {
    "colab": {
     "base_uri": "https://localhost:8080/"
    },
    "id": "g-qmYCNUhpdP",
    "outputId": "e50ad6ac-bc04-4fa8-f0f1-b20fee8122a6"
   },
   "outputs": [
    {
     "name": "stdout",
     "output_type": "stream",
     "text": [
      "0\n",
      "1\n",
      "2\n",
      "3\n",
      "4\n",
      "5\n",
      "6\n",
      "7\n",
      "8\n",
      "9\n"
     ]
    }
   ],
   "source": [
    "# 基本的な制御構文\n",
    "# キーワード： for, while, if, elif, else, range\n",
    "\n",
    "for x in range(10):\n",
    "    print (x)"
   ]
  },
  {
   "cell_type": "code",
   "execution_count": 75,
   "metadata": {
    "colab": {
     "base_uri": "https://localhost:8080/"
    },
    "id": "HzwczAy8hw3J",
    "outputId": "6b313384-03b8-4204-c3b4-992de0100d7f"
   },
   "outputs": [
    {
     "name": "stdout",
     "output_type": "stream",
     "text": [
      "1\n",
      "3\n",
      "5\n",
      "7\n",
      "9\n"
     ]
    }
   ],
   "source": [
    "for x in range(1, 10, 2):\n",
    "    print (x)"
   ]
  },
  {
   "cell_type": "code",
   "execution_count": 76,
   "metadata": {
    "colab": {
     "base_uri": "https://localhost:8080/"
    },
    "id": "U_k4mVr9hySX",
    "outputId": "a1242f45-83b2-4d63-a526-5336e7bd0efb"
   },
   "outputs": [
    {
     "name": "stdout",
     "output_type": "stream",
     "text": [
      "0 zero\n",
      "1 even\n",
      "2 odd\n",
      "3 even\n",
      "4 odd\n",
      "5 even\n",
      "6 odd\n",
      "7 even\n",
      "8 odd\n",
      "9 even\n"
     ]
    }
   ],
   "source": [
    "for x in range(10):\n",
    "    if x == 0:\n",
    "        print (x, \"zero\")\n",
    "    elif x % 2 == 0:\n",
    "        print (x, \"odd\")\n",
    "    else:\n",
    "        print (x, \"even\")"
   ]
  },
  {
   "cell_type": "code",
   "execution_count": 77,
   "metadata": {
    "colab": {
     "base_uri": "https://localhost:8080/"
    },
    "id": "DPaPXZ6bh0a_",
    "outputId": "e3bf5f46-fadd-4633-c6ab-1eac6854af0f"
   },
   "outputs": [
    {
     "name": "stdout",
     "output_type": "stream",
     "text": [
      "0\n",
      "1\n",
      "2\n",
      "3\n",
      "4\n",
      "5\n",
      "6\n",
      "7\n",
      "8\n",
      "9\n"
     ]
    }
   ],
   "source": [
    "x = 0\n",
    "while (x < 10):\n",
    "    print (x)\n",
    "    x += 1"
   ]
  },
  {
   "cell_type": "code",
   "execution_count": 78,
   "metadata": {
    "colab": {
     "base_uri": "https://localhost:8080/"
    },
    "id": "amUOk3Toh13R",
    "outputId": "f76107d8-754b-444a-ecf4-85b646db299f"
   },
   "outputs": [
    {
     "name": "stdout",
     "output_type": "stream",
     "text": [
      "test 0\n",
      "test 1\n",
      "test 2\n",
      "test 3\n",
      "test 4\n"
     ]
    }
   ],
   "source": [
    "# 関数の定義と利用\n",
    "def func1(x):\n",
    "    print (\"test\", x)\n",
    "    \n",
    "for x in range(5):\n",
    "    func1(x)\n",
    "    "
   ]
  },
  {
   "cell_type": "code",
   "execution_count": 79,
   "metadata": {
    "colab": {
     "base_uri": "https://localhost:8080/"
    },
    "id": "48Na9w4Wh3wg",
    "outputId": "33b8c0af-3cb2-4a03-b6c7-2f2fc562e6ff"
   },
   "outputs": [
    {
     "name": "stdout",
     "output_type": "stream",
     "text": [
      "4\n",
      "8\n",
      "(4, 8)\n",
      "<class 'tuple'>\n",
      "4\n"
     ]
    }
   ],
   "source": [
    "# C言語と違い関数は複数の変数を返すことができます\n",
    "def func2(x):\n",
    "    return x**2, x**3\n",
    "\n",
    "a, b = func2(2)\n",
    "print (a)\n",
    "print (b)\n",
    "\n",
    "c = func2(2)\n",
    "print (c)\n",
    "print (type(c))\n",
    "print (c[0])\n",
    "\n"
   ]
  },
  {
   "cell_type": "code",
   "execution_count": 80,
   "metadata": {
    "colab": {
     "base_uri": "https://localhost:8080/"
    },
    "id": "A0DMlRZ5iAY7",
    "outputId": "5de9ca04-ae56-49ad-b94d-6bac2fda1e5f"
   },
   "outputs": [
    {
     "data": {
      "text/plain": [
       "['False',\n",
       " 'None',\n",
       " 'True',\n",
       " 'and',\n",
       " 'as',\n",
       " 'assert',\n",
       " 'async',\n",
       " 'await',\n",
       " 'break',\n",
       " 'class',\n",
       " 'continue',\n",
       " 'def',\n",
       " 'del',\n",
       " 'elif',\n",
       " 'else',\n",
       " 'except',\n",
       " 'finally',\n",
       " 'for',\n",
       " 'from',\n",
       " 'global',\n",
       " 'if',\n",
       " 'import',\n",
       " 'in',\n",
       " 'is',\n",
       " 'lambda',\n",
       " 'nonlocal',\n",
       " 'not',\n",
       " 'or',\n",
       " 'pass',\n",
       " 'raise',\n",
       " 'return',\n",
       " 'try',\n",
       " 'while',\n",
       " 'with',\n",
       " 'yield']"
      ]
     },
     "execution_count": 80,
     "metadata": {},
     "output_type": "execute_result"
    }
   ],
   "source": [
    "# 予約語\n",
    "__import__('keyword').kwlist"
   ]
  },
  {
   "cell_type": "code",
   "execution_count": 80,
   "metadata": {
    "id": "wP625S0NiRYz"
   },
   "outputs": [],
   "source": []
  }
 ],
 "metadata": {
  "colab": {
   "collapsed_sections": [],
   "name": "note1-1.ipynb",
   "provenance": []
  },
  "kernelspec": {
   "display_name": "Python 3",
   "language": "python",
   "name": "python3"
  },
  "language_info": {
   "codemirror_mode": {
    "name": "ipython",
    "version": 3
   },
   "file_extension": ".py",
   "mimetype": "text/x-python",
   "name": "python",
   "nbconvert_exporter": "python",
   "pygments_lexer": "ipython3",
   "version": "3.7.4"
  }
 },
 "nbformat": 4,
 "nbformat_minor": 1
}
