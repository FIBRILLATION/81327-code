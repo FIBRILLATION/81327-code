{
 "cells": [
  {
   "cell_type": "markdown",
   "metadata": {
    "id": "Y_mKlDx-xH1I"
   },
   "source": [
    "# 離散確率分布\n",
    "*   ベルヌーイ分布\n",
    "*   二項分布\n",
    "*   カテゴリ分布\n",
    "*   多項分布"
   ]
  },
  {
   "cell_type": "code",
   "execution_count": null,
   "metadata": {
    "id": "RhUaTfImnBZj"
   },
   "outputs": [],
   "source": [
    "import numpy as np\n",
    "import matplotlib.pyplot as plt\n",
    "%matplotlib inline\n"
   ]
  },
  {
   "cell_type": "markdown",
   "metadata": {
    "id": "FgOzDanMnIz1"
   },
   "source": [
    "## 離散確率分布\n",
    "### ベルヌーイ分布\n",
    "\n",
    "コイン投げにおいて、表、もしくは裏が出る分布のように、試行の結果が2通りしか存在しない場合の分布を決定します。\n",
    "\n",
    "確率質量関数 (Probability mass function)：\n",
    "\n",
    "$\n",
    "P\\left( x \\| \\mu \\right) = \\mu^{x} \\left(1-\\mu \\right)^{1-x}\\quad \\left(x \\in \\{ 0, 1 \\} , 0 \\leq \\mu \\leq 1 \\right)\n",
    "$\n",
    "\n",
    "累積分布関数 (Cumulative distribution function)：\n",
    "\n",
    "$\n",
    "F\\left( x \\| \\mu \\right) = \\sum_{x=0}^{\\mu} \\mu^{x}\\left(1-\\mu \\right)^{1-x} \\quad \\left(x \\in \\{ 0, 1 \\} \\right) \n",
    "$\n",
    "\n",
    "利用法\n",
    "*   SciPy:\tscipy.stats.bernoulli($\\mu$)\n",
    "*   NumPy:\tnp.random.choice([0, 1], p=[1-$\\mu$, $\\mu$])\n",
    "*   Stan:\tbernoulli($\\mu$)"
   ]
  },
  {
   "cell_type": "code",
   "execution_count": null,
   "metadata": {
    "id": "OLy4BX7iwfm5"
   },
   "outputs": [],
   "source": [
    "from scipy.stats import bernoulli # ベルヌーイ分布"
   ]
  },
  {
   "cell_type": "code",
   "execution_count": null,
   "metadata": {
    "id": "JmtOLDrWnL_o"
   },
   "outputs": [],
   "source": [
    "# 以下のほかにも様々な関数が用意されています。\n",
    "# - pmf : probability density function 確率質量関数 (logpmfもある)\n",
    "# - cdf : cumulative distribution function 累積分布関数 (logcdfもある)\n",
    "# - rvs: random variates その分布に従う確率変数（とりうる値）を、指定した数だけランダムに生成する\n",
    "\n",
    "bernoulli?"
   ]
  },
  {
   "cell_type": "code",
   "execution_count": null,
   "metadata": {
    "colab": {
     "base_uri": "https://localhost:8080/"
    },
    "executionInfo": {
     "elapsed": 5,
     "status": "ok",
     "timestamp": 1633057351533,
     "user": {
      "displayName": "Yukako Tohsato",
      "photoUrl": "https://lh3.googleusercontent.com/a-/AOh14GjgD0pr7f2d920V3MXJxywAnc2ckiScpZ_Yq_KuoA=s64",
      "userId": "10733751753477417437"
     },
     "user_tz": -540
    },
    "id": "XtMQgehHfTUG",
    "outputId": "1604521e-0287-464c-bc48-a2f4a177ae48"
   },
   "outputs": [
    {
     "name": "stdout",
     "output_type": "stream",
     "text": [
      "[0 0 0 0 0]\n",
      "[0 0 0 0 0]\n"
     ]
    }
   ],
   "source": [
    "# マニュアルを見ながら理解すること\n",
    "X = bernoulli(p=0.3) # 表(1)が出る確率\n",
    "print (X.rvs(size=5)) # ランダムサンプリング\n",
    "\n",
    "X = bernoulli(0.3)\n",
    "print (X.rvs(5))"
   ]
  },
  {
   "cell_type": "code",
   "execution_count": null,
   "metadata": {
    "colab": {
     "base_uri": "https://localhost:8080/"
    },
    "executionInfo": {
     "elapsed": 233,
     "status": "ok",
     "timestamp": 1633057360844,
     "user": {
      "displayName": "Yukako Tohsato",
      "photoUrl": "https://lh3.googleusercontent.com/a-/AOh14GjgD0pr7f2d920V3MXJxywAnc2ckiScpZ_Yq_KuoA=s64",
      "userId": "10733751753477417437"
     },
     "user_tz": -540
    },
    "id": "bFKDaGQInOjq",
    "outputId": "c66b2f55-d1b9-4d40-bebb-2872e744bf2b"
   },
   "outputs": [
    {
     "name": "stdout",
     "output_type": "stream",
     "text": [
      "0.7000000000000001\n",
      "0.3\n",
      "[0.7 0.3]\n"
     ]
    }
   ],
   "source": [
    "# 確率質量関数 bernoulli.pmf(k, p, loc=0) を計算\n",
    "# kには0か1の値(x)を、pには1の時の確率(mu)を指定する。\n",
    "mu = 0.3\n",
    "\n",
    "print(bernoulli.pmf(0, mu))\n",
    "print(bernoulli.pmf(1, mu))\n",
    "print(bernoulli.pmf((0,1), mu))"
   ]
  },
  {
   "cell_type": "code",
   "execution_count": null,
   "metadata": {
    "colab": {
     "base_uri": "https://localhost:8080/",
     "height": 314
    },
    "executionInfo": {
     "elapsed": 524,
     "status": "ok",
     "timestamp": 1633057371764,
     "user": {
      "displayName": "Yukako Tohsato",
      "photoUrl": "https://lh3.googleusercontent.com/a-/AOh14GjgD0pr7f2d920V3MXJxywAnc2ckiScpZ_Yq_KuoA=s64",
      "userId": "10733751753477417437"
     },
     "user_tz": -540
    },
    "id": "dnX7RwTTpDUn",
    "outputId": "9a92b8d1-d8cd-4ab2-eeab-10a11c6ada07"
   },
   "outputs": [
    {
     "name": "stdout",
     "output_type": "stream",
     "text": [
      "[0.7 0.3]\n"
     ]
    },
    {
     "data": {
      "image/png": "[encoded data removed]",
      "text/plain": [
       "<Figure size 432x288 with 1 Axes>"
      ]
     },
     "metadata": {
      "needs_background": "light"
     },
     "output_type": "display_data"
    }
   ],
   "source": [
    "# 確率質量関数 pmf(k, p, loc=0) の理論値の計算&グラフ表示\n",
    "mu = 0.3\n",
    "\n",
    "x_label = (0,1)\n",
    "x = bernoulli.pmf(x_label, p=mu)\n",
    "print (x)\n",
    "\n",
    "# ヒストグラムで確認\n",
    "# ベルヌーイ分布の定義域は 0,1 なのでそれ以外の区間では0になる。\n",
    "plt.bar(x_label, x, label=\"$p$=\" + str(mu)) # 観測データ：0の数=総数から1の数を引く、1の数\n",
    "plt.xlabel('x')\n",
    "plt.ylabel('P(x)')\n",
    "plt.xticks(x_label) # x軸目盛のラベルを置換\n",
    "plt.title('Probability mass function of Bernoulli distribution: ' + '$\\mu=' + str(mu) + '$')\n",
    "plt.show()\n"
   ]
  },
  {
   "cell_type": "code",
   "execution_count": null,
   "metadata": {
    "colab": {
     "base_uri": "https://localhost:8080/"
    },
    "executionInfo": {
     "elapsed": 13,
     "status": "ok",
     "timestamp": 1633057371765,
     "user": {
      "displayName": "Yukako Tohsato",
      "photoUrl": "https://lh3.googleusercontent.com/a-/AOh14GjgD0pr7f2d920V3MXJxywAnc2ckiScpZ_Yq_KuoA=s64",
      "userId": "10733751753477417437"
     },
     "user_tz": -540
    },
    "id": "GMSy71xruqt2",
    "outputId": "69bd4e41-a992-4d24-ac9f-812c924ab3e4"
   },
   "outputs": [
    {
     "name": "stdout",
     "output_type": "stream",
     "text": [
      "[0, 1, 1, 0, 0, 1, 1, 1, 1, 1, 1, 1, 0, 1, 1, 0, 0, 1, 0, 0]\n",
      "<class 'list'>\n"
     ]
    }
   ],
   "source": [
    "# ベルヌーイからのランダムサンプリングを試す\n",
    "# bernoulli.rvs も利用できるが、使いやすさを優先し 同様の機能のある np.random.binomial(n=1, p=mu_truth, size=N)\n",
    "\n",
    "x = []\n",
    "for i in range(20):\n",
    "  v = bernoulli.rvs(0.5)\n",
    "  x.append(v)\n",
    "  \n",
    "print (x)\n",
    "print (type(x)) # list 型"
   ]
  },
  {
   "cell_type": "code",
   "execution_count": null,
   "metadata": {
    "colab": {
     "base_uri": "https://localhost:8080/"
    },
    "executionInfo": {
     "elapsed": 5,
     "status": "ok",
     "timestamp": 1633057373348,
     "user": {
      "displayName": "Yukako Tohsato",
      "photoUrl": "https://lh3.googleusercontent.com/a-/AOh14GjgD0pr7f2d920V3MXJxywAnc2ckiScpZ_Yq_KuoA=s64",
      "userId": "10733751753477417437"
     },
     "user_tz": -540
    },
    "id": "42JO4qHtrj3d",
    "outputId": "f74f49fc-bc51-429a-be86-a5903a05d1a4"
   },
   "outputs": [
    {
     "name": "stdout",
     "output_type": "stream",
     "text": [
      "[1 1 0 1 1 0 1 1 0 0 1 1 0 1 0 1 1 1 1 0]\n",
      "<class 'numpy.ndarray'>\n"
     ]
    }
   ],
   "source": [
    "# ベルヌーイからのランダムサンプリングを試す(2)\n",
    "# 引数でで size を指定すれば for 文は不要。結果はは numpy.ndarray 型で保存されている\n",
    "x = bernoulli.rvs(0.5, size=20)\n",
    "  \n",
    "print (x)\n",
    "print (type(x))"
   ]
  },
  {
   "cell_type": "code",
   "execution_count": null,
   "metadata": {
    "colab": {
     "base_uri": "https://localhost:8080/",
     "height": 314
    },
    "executionInfo": {
     "elapsed": 387,
     "status": "ok",
     "timestamp": 1633057375389,
     "user": {
      "displayName": "Yukako Tohsato",
      "photoUrl": "https://lh3.googleusercontent.com/a-/AOh14GjgD0pr7f2d920V3MXJxywAnc2ckiScpZ_Yq_KuoA=s64",
      "userId": "10733751753477417437"
     },
     "user_tz": -540
    },
    "id": "N_Tje7m0tBow",
    "outputId": "d7c42f5c-c15d-45e1-b4ef-de0c4e916b8e"
   },
   "outputs": [
    {
     "name": "stdout",
     "output_type": "stream",
     "text": [
      "[1 1 0 0 1 0 1 0 1 0]\n"
     ]
    },
    {
     "data": {
      "image/png": "[encoded data removed]",
      "text/plain": [
       "<Figure size 432x288 with 1 Axes>"
      ]
     },
     "metadata": {
      "needs_background": "light"
     },
     "output_type": "display_data"
    }
   ],
   "source": [
    "# ランダムサンプリング&グラフ表示\n",
    "mu = 0.3\n",
    "size = 10 # サンプリング数が少ない場合に、正解とのずれに注意すること\n",
    "\n",
    "x = bernoulli.rvs(p=mu, size=size)\n",
    "print (x)\n",
    "\n",
    "# ヒストグラムで確認\n",
    "plt.bar([0,1], [size-np.sum(x), np.sum(x)], label=\"$p$=\" + str(mu)) # 観測データ：0の数=総数から1の数を引く、1の数\n",
    "plt.xlabel('x')\n",
    "plt.ylabel('Count')\n",
    "plt.xticks([0,1]) # x軸目盛のラベルを置換\n",
    "plt.title('Observation Data: $N=' + str(size) + ', \\mu=' + str(mu) + '$')\n",
    "plt.show()\n"
   ]
  },
  {
   "cell_type": "code",
   "execution_count": null,
   "metadata": {
    "id": "pF0zTSVEvX9T"
   },
   "outputs": [],
   "source": [
    "# numpy にもランダムサンプリングをする関数は用意されており、サンプリングだけなら、numpy だけで事足りる\n",
    "np.random?\n",
    "\n",
    "# 抜粋\n",
    "# - beta                 Beta distribution over ``[0, 1]``.\n",
    "# - binomial             Binomial distribution.\n",
    "# - gamma                Gamma distribution.\n",
    "# - normal               Normal / Gaussian distribution.\n",
    "# - poisson              Poisson distribution.\n",
    "# - uniform              Uniform distribution."
   ]
  },
  {
   "cell_type": "code",
   "execution_count": null,
   "metadata": {
    "colab": {
     "base_uri": "https://localhost:8080/"
    },
    "executionInfo": {
     "elapsed": 279,
     "status": "ok",
     "timestamp": 1633057378975,
     "user": {
      "displayName": "Yukako Tohsato",
      "photoUrl": "https://lh3.googleusercontent.com/a-/AOh14GjgD0pr7f2d920V3MXJxywAnc2ckiScpZ_Yq_KuoA=s64",
      "userId": "10733751753477417437"
     },
     "user_tz": -540
    },
    "id": "D1491drNsF5o",
    "outputId": "13c6973d-6e7c-4afa-958a-c3acf0386809"
   },
   "outputs": [
    {
     "name": "stdout",
     "output_type": "stream",
     "text": [
      "[1 1 1 1 0 1 0 1 1 0 1 1 1 1 0 0 0 1 1 1]\n",
      "<class 'numpy.ndarray'>\n"
     ]
    }
   ],
   "source": [
    "# 同様のランダムサンプリングは numpy.random をつかっても同様のことができる。\n",
    "# binminal で二項分布に従う乱数を生成する\n",
    "np.random.seed(0)# シード値を設定\n",
    "x = np.random.binomial(n=1, p=0.5, size=20) # シード値を指定することで、ランダムサンプリングが再現できる\n",
    "\n",
    "print (x)\n",
    "print (type(x))"
   ]
  },
  {
   "cell_type": "code",
   "execution_count": null,
   "metadata": {
    "colab": {
     "base_uri": "https://localhost:8080/",
     "height": 348
    },
    "executionInfo": {
     "elapsed": 240,
     "status": "ok",
     "timestamp": 1633057386449,
     "user": {
      "displayName": "Yukako Tohsato",
      "photoUrl": "https://lh3.googleusercontent.com/a-/AOh14GjgD0pr7f2d920V3MXJxywAnc2ckiScpZ_Yq_KuoA=s64",
      "userId": "10733751753477417437"
     },
     "user_tz": -540
    },
    "id": "yb6kWkG_seIE",
    "outputId": "49d73c13-bcaa-48d9-da36-53b3988f531a"
   },
   "outputs": [
    {
     "name": "stdout",
     "output_type": "stream",
     "text": [
      "[1 1 0 1 0 0 0 1 0 0]\n",
      "0.4\n",
      "[6, 4]\n"
     ]
    },
    {
     "data": {
      "image/png": "[encoded data removed]",
      "text/plain": [
       "<Figure size 432x288 with 1 Axes>"
      ]
     },
     "metadata": {
      "needs_background": "light"
     },
     "output_type": "display_data"
    }
   ],
   "source": [
    "mu = 0.3\n",
    "size = 10\n",
    "\n",
    "# 二項分布に従う乱数を整数n回数だけ、成功率pの試行を返す。sizeを指定すると結果を配列で返す\n",
    "# random.binomial(n, p, size=None)\n",
    "x = np.random.binomial(n=1, p=mu, size=size) # \n",
    "print (x)\n",
    "print (np.sum(x) / size)\n",
    "print ([size - np.sum(x), np.sum(x)]) # 1の数を数える\n",
    "\n",
    "# ヒストグラムで確認\n",
    "plt.bar(x=[0,1], height=[size - np.sum(x), np.sum(x)]) # 観測データ\n",
    "plt.xlabel('x')\n",
    "plt.ylabel('Count')\n",
    "plt.xticks(ticks=[0,1]) # x軸目盛\n",
    "plt.title('Observation Data: $N=' + str(size) + ', \\mu=' + str(mu) + '$')\n",
    "plt.show()"
   ]
  },
  {
   "cell_type": "markdown",
   "metadata": {
    "id": "uATZFxXHwk1z"
   },
   "source": [
    "### 二項分布\n",
    "\n",
    "コイン投げを複数回行った結果、表が出来る回数の確率が従う分布になります。回数が1の時はベルヌーイ分布に一致します。\n",
    "- 𝑛 がコインを投げる回数\n",
    "- 𝑝 が表が出る確率\n",
    "- 𝑘 が表が出る回数で確率変数になります。\n",
    "\n",
    "$ \\displaystyle\n",
    "P\\left(k | n,p \\right) = \\frac{n!}{k!\\left(n-k \\right)!} p^{k}\\left( 1-p\\right)^{n-k}\n",
    "$\n",
    "\n",
    "\n",
    "利用法：\n",
    "*   SciPy\tscipy.stats.binom($n$, $p$)\n",
    "*   NumPy\tnp.random.binomial($n$, $p$)\n",
    "*   Stan\tbinomial($n$, $p$)"
   ]
  },
  {
   "cell_type": "code",
   "execution_count": null,
   "metadata": {
    "id": "3oVEM3aYwZv7"
   },
   "outputs": [],
   "source": [
    "from scipy.stats import binom # 二項分布"
   ]
  },
  {
   "cell_type": "code",
   "execution_count": null,
   "metadata": {
    "colab": {
     "base_uri": "https://localhost:8080/",
     "height": 398
    },
    "executionInfo": {
     "elapsed": 505,
     "status": "ok",
     "timestamp": 1633057391593,
     "user": {
      "displayName": "Yukako Tohsato",
      "photoUrl": "https://lh3.googleusercontent.com/a-/AOh14GjgD0pr7f2d920V3MXJxywAnc2ckiScpZ_Yq_KuoA=s64",
      "userId": "10733751753477417437"
     },
     "user_tz": -540
    },
    "id": "WsugcKqHwje3",
    "outputId": "0fee5907-ece2-47d4-f138-1507017b0ebd"
   },
   "outputs": [
    {
     "name": "stdout",
     "output_type": "stream",
     "text": [
      "[  0   1   2   3   4   5   6   7   8   9  10  11  12  13  14  15  16  17\n",
      "  18  19  20  21  22  23  24  25  26  27  28  29  30  31  32  33  34  35\n",
      "  36  37  38  39  40  41  42  43  44  45  46  47  48  49  50  51  52  53\n",
      "  54  55  56  57  58  59  60  61  62  63  64  65  66  67  68  69  70  71\n",
      "  72  73  74  75  76  77  78  79  80  81  82  83  84  85  86  87  88  89\n",
      "  90  91  92  93  94  95  96  97  98  99 100]\n"
     ]
    },
    {
     "data": {
      "image/png": "[encoded data removed]",
      "text/plain": [
       "<Figure size 432x288 with 1 Axes>"
      ]
     },
     "metadata": {
      "needs_background": "light"
     },
     "output_type": "display_data"
    }
   ],
   "source": [
    "# numpy.arange([start, ]stop, [step, ]dtype = None)\n",
    "# 初項がstart(default=0)で、終点がendの公差がstep(default=1)の等差数列を作成\n",
    "size = 100\n",
    "x = np.arange(size+1) # 0から100までの等差数列を作る \n",
    "print (x)\n",
    "\n",
    "p1 = 0.3\n",
    "y1 = binom.pmf(x,size,p1)\n",
    "\n",
    "p2 = 0.5\n",
    "y2 = binom.pmf(x,size,p2)\n",
    "\n",
    "p3 = 0.9\n",
    "y3 = binom.pmf(x,size,p3)\n",
    "\n",
    "# 図2.3の図と同じになるかを確認\n",
    "plt.plot(x, y1, label=\"$p$=\" + str(p1)) # $ と $で囲むとlatexの数式が使える\n",
    "plt.plot(x, y2, label=\"$p$=\" + str(p2))\n",
    "plt.plot(x, y3, label=\"$p$=\" + str(p3))\n",
    "plt.xlabel('$x$')\n",
    "plt.ylabel('$B(n,\\mu)$')\n",
    "plt.title(\"Binomial distribution: $n=$\" + str(size))\n",
    "plt.legend()\n",
    "plt.show()"
   ]
  },
  {
   "cell_type": "markdown",
   "metadata": {
    "id": "V76r-LZ6wxzQ"
   },
   "source": [
    "### (おまけ)\n",
    "\n",
    "複数のパラメータを組み合わせて分布作りグラフを生成するヒント"
   ]
  },
  {
   "cell_type": "code",
   "execution_count": null,
   "metadata": {
    "colab": {
     "base_uri": "https://localhost:8080/",
     "height": 346
    },
    "executionInfo": {
     "elapsed": 664,
     "status": "ok",
     "timestamp": 1633057394247,
     "user": {
      "displayName": "Yukako Tohsato",
      "photoUrl": "https://lh3.googleusercontent.com/a-/AOh14GjgD0pr7f2d920V3MXJxywAnc2ckiScpZ_Yq_KuoA=s64",
      "userId": "10733751753477417437"
     },
     "user_tz": -540
    },
    "id": "OLKLn-ntwrUr",
    "outputId": "f87ed603-5386-400c-b0ea-d4740028a3a1"
   },
   "outputs": [
    {
     "name": "stdout",
     "output_type": "stream",
     "text": [
      "10 0.5\n",
      "10 0.2\n",
      "20 0.6\n"
     ]
    },
    {
     "data": {
      "image/png": "[encoded data removed]",
      "text/plain": [
       "<Figure size 432x288 with 1 Axes>"
      ]
     },
     "metadata": {
      "needs_background": "light"
     },
     "output_type": "display_data"
    }
   ],
   "source": [
    "size_list = [10, 10, 20]\n",
    "mu_list = [0.5, 0.2, 0.6]\n",
    "for _size, _mu in zip(size_list, mu_list): # 複数のリストをZIPでまとめて要素を取得\n",
    "    print (_size, _mu) # 取得した要素の確認\n",
    "    \n",
    "    x = np.arange(_size+1)\n",
    "    y = binom.pmf(x,_size,_mu) # 確率密度関数(pmf)を得る\n",
    "    \n",
    "    plt.plot(x, y, label=\"$n=$\" + str(_size) + \", $\\mu=$\" + str(_mu)) # $ と $で囲むとlatexの数式が使える\n",
    "\n",
    "plt.xlabel('$x$')\n",
    "plt.ylabel('$B(M,\\mu)$')\n",
    "plt.title(\"Binomial distribution:\")\n",
    "plt.legend()\n",
    "plt.show()"
   ]
  },
  {
   "cell_type": "code",
   "execution_count": null,
   "metadata": {
    "colab": {
     "base_uri": "https://localhost:8080/",
     "height": 350
    },
    "executionInfo": {
     "elapsed": 351,
     "status": "ok",
     "timestamp": 1633057395857,
     "user": {
      "displayName": "Yukako Tohsato",
      "photoUrl": "https://lh3.googleusercontent.com/a-/AOh14GjgD0pr7f2d920V3MXJxywAnc2ckiScpZ_Yq_KuoA=s64",
      "userId": "10733751753477417437"
     },
     "user_tz": -540
    },
    "id": "xBIzj2D1w2CQ",
    "outputId": "31a5f287-514b-4231-9e13-8c7315c751bb"
   },
   "outputs": [
    {
     "name": "stdout",
     "output_type": "stream",
     "text": [
      "[27 33 29 31 21 31 31 31 37 32 28 29 32 23 32 32 26 25 28 28 31 29 41 24\n",
      " 26 25 32 27 30 27 25 24 32 25 26 28 34 24 35 24 39 30 39 31 33 22 27 25\n",
      " 27 25 28 29 23 32 31 27 30 24 31 37 28 32 25 33 27 26 31 21 34 19 32 27\n",
      " 33 38 27 31 31 31 26 38 29 35 32 28 34 29 35 31 35 32 33 30 38 32 29 31\n",
      " 21 28 32 27]\n"
     ]
    },
    {
     "data": {
      "image/png": "[encoded data removed]",
      "text/plain": [
       "<Figure size 432x288 with 1 Axes>"
      ]
     },
     "metadata": {
      "needs_background": "light"
     },
     "output_type": "display_data"
    }
   ],
   "source": [
    "# 指定された𝑛,pのパラメタを持つ二項分布からサンプリングを行い、確率質量関数が正しいことを確認します。\n",
    "\n",
    "n = 100\n",
    "p = 0.3\n",
    "\n",
    "y = binom.rvs(n,p,size=100) # 総試行数(n)と確率(p)を指定した二項分布からsize分をサンプリング\n",
    "print (y)\n",
    "\n",
    "plt.hist(y, bins=10)\n",
    "plt.show()"
   ]
  },
  {
   "cell_type": "markdown",
   "metadata": {
    "id": "LlFcPzZIiQJh"
   },
   "source": [
    "### カテゴリ分布\n",
    "\n",
    "いびつないびつなK面体のサイコロ。ベルヌーイ分布の多変数化になります。ベルヌーイ分布がコインの裏表が出る確率分布を表現するのであれば、サイコロの面が出る確率分布を表現します。次に説明する多項分布の 𝑁=1 の場合に相当します。\n",
    "\n",
    "$ \\displaystyle\n",
    "P\\left(x_1, x_2, \\cdots x_n | n,p_1,p_2 \\cdots p_n \\right) = p_1^{x_1}p_2^{x_2}\\cdots p_n^{x_n}\n",
    "$\n",
    "\n",
    "ただし、$p_i$と$x_i$は $ \\displaystyle \\sum_i p_i = 1 , \\sum_i x_i = 1 $を満たす。\n",
    "\n",
    "\n",
    "利用法\n",
    "*   SciPy:\tscipy.stats.multinomial(1, $p$)\n",
    "*   NumPy:\tnp.random.multinomial(1, $p$) or np.random.choice(len($p$), p=$p$)\n",
    "*   Stan:\tcategorical($p$)"
   ]
  },
  {
   "cell_type": "code",
   "execution_count": null,
   "metadata": {
    "id": "AZOswUZ1iO96"
   },
   "outputs": [],
   "source": [
    "from scipy.stats import multinomial"
   ]
  },
  {
   "cell_type": "code",
   "execution_count": null,
   "metadata": {
    "id": "fHDb5b5JiTdN"
   },
   "outputs": [],
   "source": [
    "multinomial?"
   ]
  },
  {
   "cell_type": "code",
   "execution_count": null,
   "metadata": {
    "colab": {
     "base_uri": "https://localhost:8080/"
    },
    "executionInfo": {
     "elapsed": 221,
     "status": "ok",
     "timestamp": 1633062649947,
     "user": {
      "displayName": "Yukako Tohsato",
      "photoUrl": "https://lh3.googleusercontent.com/a-/AOh14GjgD0pr7f2d920V3MXJxywAnc2ckiScpZ_Yq_KuoA=s64",
      "userId": "10733751753477417437"
     },
     "user_tz": -540
    },
    "id": "dlOLHmRz9-e_",
    "outputId": "291eed2e-be1f-4f15-a40d-42a7d47bbbff"
   },
   "outputs": [
    {
     "name": "stdout",
     "output_type": "stream",
     "text": [
      "[[0 0 0 0 0 1]\n",
      " [0 1 0 0 0 0]\n",
      " [0 1 0 0 0 0]\n",
      " [0 0 0 0 1 0]\n",
      " [0 0 0 0 1 0]\n",
      " [0 0 0 1 0 0]\n",
      " [0 0 0 0 1 0]\n",
      " [0 1 0 0 0 0]\n",
      " [0 0 0 1 0 0]\n",
      " [0 0 0 0 1 0]]\n",
      "0.16666666666666669\n"
     ]
    }
   ],
   "source": [
    "K = 6 # K は次元数. ここでは 6面サイコロを作成を作成\n",
    "pi_truth = [1/K, 1/K, 1/K, 1/K, 1/K, 1/K] # 一様なな6面サイコロを設定。値を変えて、いびつなサイコロを作っても良い。\n",
    "p = multinomial(1, pi_truth) # scipyではマルチヌーイ分布専用の関数なく、多項分布の𝑁=1の場合を利用します。\n",
    "\n",
    "print(p.rvs(10)) # 10回ランダムサンプリング\n",
    "print(p.pmf([1,0,0,0,0,0])) # 1つの目のみpmfを計算してみる"
   ]
  },
  {
   "cell_type": "code",
   "execution_count": null,
   "metadata": {
    "colab": {
     "base_uri": "https://localhost:8080/"
    },
    "executionInfo": {
     "elapsed": 6,
     "status": "ok",
     "timestamp": 1633062651083,
     "user": {
      "displayName": "Yukako Tohsato",
      "photoUrl": "https://lh3.googleusercontent.com/a-/AOh14GjgD0pr7f2d920V3MXJxywAnc2ckiScpZ_Yq_KuoA=s64",
      "userId": "10733751753477417437"
     },
     "user_tz": -540
    },
    "id": "4LsZ75bV-PAh",
    "outputId": "b46c89ae-d620-4b70-cd56-fab97a29c6b3"
   },
   "outputs": [
    {
     "name": "stdout",
     "output_type": "stream",
     "text": [
      "onehot [[1. 0. 0. 0. 0. 0.]\n",
      " [0. 1. 0. 0. 0. 0.]\n",
      " [0. 0. 1. 0. 0. 0.]\n",
      " [0. 0. 0. 1. 0. 0.]\n",
      " [0. 0. 0. 0. 1. 0.]\n",
      " [0. 0. 0. 0. 0. 1.]]\n",
      "[0.16666667 0.16666667 0.16666667 0.16666667 0.16666667 0.16666667]\n"
     ]
    }
   ],
   "source": [
    "x_onehot = np.identity(K) # identity はは KxKの正方行列を作成する関数. これを 1 of K 表現 (one-hot) ベクトルの作成関数として利用している。\n",
    "print (\"onehot\", x_onehot) # 出力を確認\n",
    "print(p.pmf(x_onehot)) # すべての目ののpmfを計算できる\n",
    "\n",
    "true_model = p.pmf(x_onehot)"
   ]
  },
  {
   "cell_type": "code",
   "execution_count": null,
   "metadata": {
    "colab": {
     "base_uri": "https://localhost:8080/",
     "height": 297
    },
    "executionInfo": {
     "elapsed": 630,
     "status": "ok",
     "timestamp": 1633064047030,
     "user": {
      "displayName": "Yukako Tohsato",
      "photoUrl": "https://lh3.googleusercontent.com/a-/AOh14GjgD0pr7f2d920V3MXJxywAnc2ckiScpZ_Yq_KuoA=s64",
      "userId": "10733751753477417437"
     },
     "user_tz": -540
    },
    "id": "lX9NfMzciVQf",
    "outputId": "627e81aa-83f8-403f-ced1-a73447711121"
   },
   "outputs": [
    {
     "data": {
      "image/png": "[encoded data removed]",
      "text/plain": [
       "<Figure size 432x288 with 1 Axes>"
      ]
     },
     "metadata": {
      "needs_background": "light"
     },
     "output_type": "display_data"
    }
   ],
   "source": [
    "# x軸の値を作成\n",
    "x_label = np.arange(1, K + 1) # 1, 2, .., Kを作る\n",
    "\n",
    "plt.bar(x=x_label, height=pi_truth) # 真のモデル\n",
    "plt.xlabel('k')\n",
    "plt.ylabel('prob')\n",
    "plt.xticks(ticks=x_label, labels=x_label) # x軸目盛\n",
    "plt.title('Categorical Distribution: $\\pi=(' + ', '.join([str(k) for k in  pi_truth]) + ')$')\n",
    "plt.ylim(0, 1)\n",
    "plt.show()"
   ]
  },
  {
   "cell_type": "code",
   "execution_count": null,
   "metadata": {
    "colab": {
     "base_uri": "https://localhost:8080/"
    },
    "executionInfo": {
     "elapsed": 210,
     "status": "ok",
     "timestamp": 1633062657259,
     "user": {
      "displayName": "Yukako Tohsato",
      "photoUrl": "https://lh3.googleusercontent.com/a-/AOh14GjgD0pr7f2d920V3MXJxywAnc2ckiScpZ_Yq_KuoA=s64",
      "userId": "10733751753477417437"
     },
     "user_tz": -540
    },
    "id": "S__ZXy_4iXrg",
    "outputId": "0dad6bce-b5de-4212-d1a0-321d6d4ae533"
   },
   "outputs": [
    {
     "name": "stdout",
     "output_type": "stream",
     "text": [
      "[[0 1 0]\n",
      " [0 1 0]\n",
      " [0 1 0]\n",
      " [0 0 1]\n",
      " [0 0 1]\n",
      " [0 0 1]\n",
      " [0 0 1]\n",
      " [0 0 1]\n",
      " [1 0 0]\n",
      " [0 1 0]]\n",
      "[1 4 5]\n"
     ]
    }
   ],
   "source": [
    "d = np.random.multinomial(n=1, pvals=np.array([1/3, 1/3, 1/3]), size=10)\n",
    "print (d)\n",
    "\n",
    "print(np.sum(d, axis=0))"
   ]
  },
  {
   "cell_type": "code",
   "execution_count": null,
   "metadata": {
    "colab": {
     "base_uri": "https://localhost:8080/"
    },
    "executionInfo": {
     "elapsed": 215,
     "status": "ok",
     "timestamp": 1633058853336,
     "user": {
      "displayName": "Yukako Tohsato",
      "photoUrl": "https://lh3.googleusercontent.com/a-/AOh14GjgD0pr7f2d920V3MXJxywAnc2ckiScpZ_Yq_KuoA=s64",
      "userId": "10733751753477417437"
     },
     "user_tz": -540
    },
    "id": "I3fAHIoS40Gh",
    "outputId": "1c6a3d98-7106-463f-97ac-9abe095c0dbb"
   },
   "outputs": [
    {
     "name": "stdout",
     "output_type": "stream",
     "text": [
      "[4 6 4 2 6 3 1 2 2 6]\n"
     ]
    }
   ],
   "source": [
    "# カテゴリ分布の乱数はこのやりかただと、ラベルをふることができる\n",
    "r = np.random.choice([1,2,3,4,5,6], p = [1/6, 1/6, 1/6, 1/6, 1/6, 1/6], size = 10) \n",
    "print (r)"
   ]
  },
  {
   "cell_type": "markdown",
   "metadata": {
    "id": "FwCukpWvihzG"
   },
   "source": [
    "## 多項分布\n",
    "二項分布の多変数版です。いかさまの可能性があるサイコロを複数回振って、それぞれの目が出る回数が従う確率分布になります。サイコロの面が 𝑛 個あり、それぞれが一回の試行で出る確率が 𝑝1,𝑝2,⋯,𝑝𝑛 で、 𝑁 回そのサイコロを振ったとき、それぞれの面が出る確率を 𝑥1,𝑥2,⋯,𝑥𝑛 とします。\n",
    "\n",
    "$ \\displaystyle\n",
    "P\\left(x_1, x_2, \\cdots x_n | n,p_1,p_2 \\cdots p_n \\right) = \\frac{N!}{x_1!x_2! \\cdots x_n!} p_1^{x_1}p_2^{x_2}\\cdots p_n^{x_n}\n",
    "$\n",
    "\n",
    "ただし、$p_i$と$x_i$は $ \\displaystyle \\sum_i p_i = 1 , \\sum_i x_i = N $を満たす\n",
    "\n",
    "\n",
    "NumPy\tnp.random.multivariate_normal(mu, Sigma)\n",
    "SciPy\tscipy.stats.multivariate_normal(mu, Sigma)\n",
    "Stan\tmulti_normal(mu, Sigma)"
   ]
  },
  {
   "cell_type": "code",
   "execution_count": null,
   "metadata": {
    "colab": {
     "base_uri": "https://localhost:8080/"
    },
    "executionInfo": {
     "elapsed": 323,
     "status": "ok",
     "timestamp": 1632381846387,
     "user": {
      "displayName": "Yukako Tohsato",
      "photoUrl": "https://lh3.googleusercontent.com/a-/AOh14GjgD0pr7f2d920V3MXJxywAnc2ckiScpZ_Yq_KuoA=s64",
      "userId": "10733751753477417437"
     },
     "user_tz": -540
    },
    "id": "jA59Y2z6iZPD",
    "outputId": "13ceb55f-7e5f-4d31-b114-16c55e4342e2"
   },
   "outputs": [
    {
     "name": "stdout",
     "output_type": "stream",
     "text": [
      "確率 :  0.002041\n"
     ]
    }
   ],
   "source": [
    "# 6面体のサイコロで、1から6それぞれの目が出る確率は、$0.1,0.2,0.25,0.15,0.2,01$とします。\n",
    "# そのサイコロを10回振って、それぞれの目が1回,2回,1回,3回,2回,1回出る確率を計算します。\n",
    "\n",
    "p = multinomial(10,[0.1,0.2,0.25,0.15,0.2,0.1])\n",
    "print('確率 : ',str(p.pmf([1,2,1,3,2,1]))[:8])"
   ]
  },
  {
   "cell_type": "code",
   "execution_count": null,
   "metadata": {
    "colab": {
     "base_uri": "https://localhost:8080/"
    },
    "executionInfo": {
     "elapsed": 309,
     "status": "ok",
     "timestamp": 1632381855787,
     "user": {
      "displayName": "Yukako Tohsato",
      "photoUrl": "https://lh3.googleusercontent.com/a-/AOh14GjgD0pr7f2d920V3MXJxywAnc2ckiScpZ_Yq_KuoA=s64",
      "userId": "10733751753477417437"
     },
     "user_tz": -540
    },
    "id": "zZrnvQSFikCE",
    "outputId": "438f37d9-19f2-404b-db20-d70f89beb5e4"
   },
   "outputs": [
    {
     "data": {
      "text/plain": [
       "array([[0, 1, 4, 2, 3, 0]])"
      ]
     },
     "execution_count": 41,
     "metadata": {},
     "output_type": "execute_result"
    }
   ],
   "source": [
    "# 上記のサイコロを10回投げて、それぞれの目が出る回数をサンプリングします。とりあえず一回だけサンプリングしてみます。\n",
    "\n",
    "multinomial.rvs(10, [0.1,0.2,0.25,0.15,0.2,0.1], size=1)"
   ]
  },
  {
   "cell_type": "code",
   "execution_count": null,
   "metadata": {
    "id": "LVFudFRfPMzW"
   },
   "outputs": [],
   "source": []
  }
 ],
 "metadata": {
  "colab": {
   "authorship_tag": "ABX9TyNqewAN7/K2/0hRprZMcoU0",
   "collapsed_sections": [],
   "name": "note2-1.ipynb",
   "provenance": []
  },
  "kernelspec": {
   "display_name": "Python 3",
   "language": "python",
   "name": "python3"
  },
  "language_info": {
   "codemirror_mode": {
    "name": "ipython",
    "version": 3
   },
   "file_extension": ".py",
   "mimetype": "text/x-python",
   "name": "python",
   "nbconvert_exporter": "python",
   "pygments_lexer": "ipython3",
   "version": "3.7.4"
  }
 },
 "nbformat": 4,
 "nbformat_minor": 1
}
