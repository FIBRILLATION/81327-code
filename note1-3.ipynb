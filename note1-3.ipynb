{
 "cells": [
  {
   "cell_type": "markdown",
   "metadata": {
    "id": "Q4Fg-VCmqCl7"
   },
   "source": [
    "# Pandas ライブラリでファイル入出力を学ぶ"
   ]
  },
  {
   "cell_type": "code",
   "execution_count": 4,
   "metadata": {
    "colab": {
     "base_uri": "https://localhost:8080/"
    },
    "id": "l8Zm449Mp_Xp",
    "outputId": "e6e3ac7b-84f1-4937-e344-d3b33d9ee547"
   },
   "outputs": [
    {
     "name": "stdout",
     "output_type": "stream",
     "text": [
      "Drive already mounted at /content/drive; to attempt to forcibly remount, call drive.mount(\"/content/drive\", force_remount=True).\n"
     ]
    }
   ],
   "source": [
    "import numpy as np\n",
    "import matplotlib.pyplot as plt\n",
    "import pandas as pd\n",
    "\n",
    "%matplotlib inline\n",
    "\n",
    "from google.colab import drive\n",
    "drive.mount('/content/drive')\n",
    "\n",
    "input_dir = \"/content/drive/MyDrive/input/\"\n",
    "output_dir = \"/content/drive/MyDrive/output/\"\n",
    "\n",
    "# このあたりは、無意識に打ち込むかんじで。"
   ]
  },
  {
   "cell_type": "code",
   "execution_count": 5,
   "metadata": {
    "colab": {
     "base_uri": "https://localhost:8080/",
     "height": 283
    },
    "id": "MAwEmLm0qCBs",
    "outputId": "6bb6420c-6a45-4ae4-84b5-92623c0f6591"
   },
   "outputs": [
    {
     "data": {
      "image/png": "[encoded data removed]",
      "text/plain": [
       "<Figure size 432x288 with 1 Axes>"
      ]
     },
     "metadata": {
      "needs_background": "light"
     },
     "output_type": "display_data"
    }
   ],
   "source": [
    "def sigmoid(x):\n",
    "    return 1 / (1 + np.exp(-x))\n",
    "\n",
    "x = np.arange(-10, 10, 0.1)\n",
    "y = sigmoid(x)\n",
    "\n",
    "plt.plot(x, y)\n",
    "plt.xlabel(\"x\", fontsize=14)\n",
    "plt.ylabel(\"sigmoid(x)\", fontsize=14)\n",
    "plt.show()\n"
   ]
  },
  {
   "cell_type": "code",
   "execution_count": 6,
   "metadata": {
    "colab": {
     "base_uri": "https://localhost:8080/",
     "height": 204
    },
    "id": "XhVRP4PhqQhd",
    "outputId": "fa41538c-ef41-4f85-c4d6-1bbf6eeb4ce1"
   },
   "outputs": [
    {
     "data": {
      "text/html": [
       "<div>\n",
       "<style scoped>\n",
       "    .dataframe tbody tr th:only-of-type {\n",
       "        vertical-align: middle;\n",
       "    }\n",
       "\n",
       "    .dataframe tbody tr th {\n",
       "        vertical-align: top;\n",
       "    }\n",
       "\n",
       "    .dataframe thead th {\n",
       "        text-align: right;\n",
       "    }\n",
       "</style>\n",
       "<table border=\"1\" class=\"dataframe\">\n",
       "  <thead>\n",
       "    <tr style=\"text-align: right;\">\n",
       "      <th></th>\n",
       "      <th>x</th>\n",
       "      <th>sigmold(x)</th>\n",
       "    </tr>\n",
       "  </thead>\n",
       "  <tbody>\n",
       "    <tr>\n",
       "      <th>0</th>\n",
       "      <td>-10.0</td>\n",
       "      <td>0.000045</td>\n",
       "    </tr>\n",
       "    <tr>\n",
       "      <th>1</th>\n",
       "      <td>-9.9</td>\n",
       "      <td>0.000050</td>\n",
       "    </tr>\n",
       "    <tr>\n",
       "      <th>2</th>\n",
       "      <td>-9.8</td>\n",
       "      <td>0.000055</td>\n",
       "    </tr>\n",
       "    <tr>\n",
       "      <th>3</th>\n",
       "      <td>-9.7</td>\n",
       "      <td>0.000061</td>\n",
       "    </tr>\n",
       "    <tr>\n",
       "      <th>4</th>\n",
       "      <td>-9.6</td>\n",
       "      <td>0.000068</td>\n",
       "    </tr>\n",
       "  </tbody>\n",
       "</table>\n",
       "</div>"
      ],
      "text/plain": [
       "      x  sigmold(x)\n",
       "0 -10.0    0.000045\n",
       "1  -9.9    0.000050\n",
       "2  -9.8    0.000055\n",
       "3  -9.7    0.000061\n",
       "4  -9.6    0.000068"
      ]
     },
     "execution_count": 6,
     "metadata": {},
     "output_type": "execute_result"
    }
   ],
   "source": [
    "# np.ndarray型 -> pandas.DataFrame型に変換\n",
    "z = np.c_[x, y] #  ndarrayを列方向に結合したのち、\n",
    "df = pd.DataFrame(z, columns=['x', 'sigmold(x)']) # 一気にデータフレーム型に変換、列名を指定する\n",
    "\n",
    "df.head() # ()内になにもないと最初の5行を表示、括弧内に数字をいれるのその行数分だけ確認できる。"
   ]
  },
  {
   "cell_type": "code",
   "execution_count": 7,
   "metadata": {
    "id": "YBedyelEvAxX"
   },
   "outputs": [],
   "source": [
    "# CSVファイルへの保存\n",
    "df.to_csv(output_dir + \"sigmoid1.csv\", index=False)"
   ]
  },
  {
   "cell_type": "code",
   "execution_count": 8,
   "metadata": {
    "colab": {
     "base_uri": "https://localhost:8080/",
     "height": 204
    },
    "id": "Y6xxcUVbvHkC",
    "outputId": "7852532e-690c-4e7d-eaf5-03bf1ef85df0"
   },
   "outputs": [
    {
     "data": {
      "text/html": [
       "<div>\n",
       "<style scoped>\n",
       "    .dataframe tbody tr th:only-of-type {\n",
       "        vertical-align: middle;\n",
       "    }\n",
       "\n",
       "    .dataframe tbody tr th {\n",
       "        vertical-align: top;\n",
       "    }\n",
       "\n",
       "    .dataframe thead th {\n",
       "        text-align: right;\n",
       "    }\n",
       "</style>\n",
       "<table border=\"1\" class=\"dataframe\">\n",
       "  <thead>\n",
       "    <tr style=\"text-align: right;\">\n",
       "      <th></th>\n",
       "      <th>x</th>\n",
       "      <th>sigmold(x)</th>\n",
       "    </tr>\n",
       "  </thead>\n",
       "  <tbody>\n",
       "    <tr>\n",
       "      <th>0</th>\n",
       "      <td>-10.0</td>\n",
       "      <td>0.000045</td>\n",
       "    </tr>\n",
       "    <tr>\n",
       "      <th>1</th>\n",
       "      <td>-9.9</td>\n",
       "      <td>0.000050</td>\n",
       "    </tr>\n",
       "    <tr>\n",
       "      <th>2</th>\n",
       "      <td>-9.8</td>\n",
       "      <td>0.000055</td>\n",
       "    </tr>\n",
       "    <tr>\n",
       "      <th>3</th>\n",
       "      <td>-9.7</td>\n",
       "      <td>0.000061</td>\n",
       "    </tr>\n",
       "    <tr>\n",
       "      <th>4</th>\n",
       "      <td>-9.6</td>\n",
       "      <td>0.000068</td>\n",
       "    </tr>\n",
       "  </tbody>\n",
       "</table>\n",
       "</div>"
      ],
      "text/plain": [
       "      x  sigmold(x)\n",
       "0 -10.0    0.000045\n",
       "1  -9.9    0.000050\n",
       "2  -9.8    0.000055\n",
       "3  -9.7    0.000061\n",
       "4  -9.6    0.000068"
      ]
     },
     "execution_count": 8,
     "metadata": {},
     "output_type": "execute_result"
    }
   ],
   "source": [
    "# CSVファイルからの読み込み\n",
    "data = pd.read_csv(output_dir + \"sigmoid1.csv\")\n",
    "data.head(5)\n"
   ]
  },
  {
   "cell_type": "code",
   "execution_count": 9,
   "metadata": {
    "colab": {
     "base_uri": "https://localhost:8080/"
    },
    "id": "pypxcmmFvKSM",
    "outputId": "76ad93e9-943d-493d-d7a4-294daff158e6"
   },
   "outputs": [
    {
     "name": "stdout",
     "output_type": "stream",
     "text": [
      "[4.53978687e-05 5.01721647e-05 5.54485247e-05 6.12797396e-05\n",
      " 6.77241496e-05 7.48462275e-05 8.27172229e-05 9.14158739e-05\n",
      " 1.01029194e-04 1.11653341e-04 1.23394576e-04 1.36370327e-04\n",
      " 1.50710358e-04 1.66558065e-04 1.84071905e-04 2.03426978e-04\n",
      " 2.24816770e-04 2.48455082e-04 2.74578156e-04 3.03447030e-04\n",
      " 3.35350130e-04 3.70606141e-04 4.09567165e-04 4.52622223e-04\n",
      " 5.00201107e-04 5.52778637e-04 6.10879359e-04 6.75082731e-04\n",
      " 7.46028834e-04 8.24424686e-04 9.11051194e-04 1.00677082e-03\n",
      " 1.11253603e-03 1.22939862e-03 1.35851995e-03 1.50118226e-03\n",
      " 1.65880108e-03 1.83293894e-03 2.02532039e-03 2.23784852e-03\n",
      " 2.47262316e-03 2.73196076e-03 3.01841632e-03 3.33480731e-03\n",
      " 3.68423990e-03 4.07013772e-03 4.49627316e-03 4.96680165e-03\n",
      " 5.48629890e-03 6.05980149e-03 6.69285092e-03 7.39154134e-03\n",
      " 8.16257115e-03 9.01329865e-03 9.95180187e-03 1.09869426e-02\n",
      " 1.21284350e-02 1.33869178e-02 1.47740317e-02 1.63024994e-02\n",
      " 1.79862100e-02 1.98403057e-02 2.18812709e-02 2.41270214e-02\n",
      " 2.65969936e-02 2.93122308e-02 3.22954647e-02 3.55711893e-02\n",
      " 3.91657228e-02 4.31072549e-02 4.74258732e-02 5.21535631e-02\n",
      " 5.73241759e-02 6.29733561e-02 6.91384203e-02 7.58581800e-02\n",
      " 8.31726965e-02 9.11229610e-02 9.97504891e-02 1.09096821e-01\n",
      " 1.19202922e-01 1.30108474e-01 1.41851065e-01 1.54465265e-01\n",
      " 1.67981615e-01 1.82425524e-01 1.97816111e-01 2.14165017e-01\n",
      " 2.31475217e-01 2.49739894e-01 2.68941421e-01 2.89050497e-01\n",
      " 3.10025519e-01 3.31812228e-01 3.54343694e-01 3.77540669e-01\n",
      " 4.01312340e-01 4.25557483e-01 4.50166003e-01 4.75020813e-01\n",
      " 5.00000000e-01 5.24979187e-01 5.49833997e-01 5.74442517e-01\n",
      " 5.98687660e-01 6.22459331e-01 6.45656306e-01 6.68187772e-01\n",
      " 6.89974481e-01 7.10949503e-01 7.31058579e-01 7.50260106e-01\n",
      " 7.68524783e-01 7.85834983e-01 8.02183889e-01 8.17574476e-01\n",
      " 8.32018385e-01 8.45534735e-01 8.58148935e-01 8.69891526e-01\n",
      " 8.80797078e-01 8.90903179e-01 9.00249511e-01 9.08877039e-01\n",
      " 9.16827304e-01 9.24141820e-01 9.30861580e-01 9.37026644e-01\n",
      " 9.42675824e-01 9.47846437e-01 9.52574127e-01 9.56892745e-01\n",
      " 9.60834277e-01 9.64428811e-01 9.67704535e-01 9.70687769e-01\n",
      " 9.73403006e-01 9.75872979e-01 9.78118729e-01 9.80159694e-01\n",
      " 9.82013790e-01 9.83697501e-01 9.85225968e-01 9.86613082e-01\n",
      " 9.87871565e-01 9.89013057e-01 9.90048198e-01 9.90986701e-01\n",
      " 9.91837429e-01 9.92608459e-01 9.93307149e-01 9.93940199e-01\n",
      " 9.94513701e-01 9.95033198e-01 9.95503727e-01 9.95929862e-01\n",
      " 9.96315760e-01 9.96665193e-01 9.96981584e-01 9.97268039e-01\n",
      " 9.97527377e-01 9.97762151e-01 9.97974680e-01 9.98167061e-01\n",
      " 9.98341199e-01 9.98498818e-01 9.98641480e-01 9.98770601e-01\n",
      " 9.98887464e-01 9.98993229e-01 9.99088949e-01 9.99175575e-01\n",
      " 9.99253971e-01 9.99324917e-01 9.99389121e-01 9.99447221e-01\n",
      " 9.99499799e-01 9.99547378e-01 9.99590433e-01 9.99629394e-01\n",
      " 9.99664650e-01 9.99696553e-01 9.99725422e-01 9.99751545e-01\n",
      " 9.99775183e-01 9.99796573e-01 9.99815928e-01 9.99833442e-01\n",
      " 9.99849290e-01 9.99863630e-01 9.99876605e-01 9.99888347e-01\n",
      " 9.99898971e-01 9.99908584e-01 9.99917283e-01 9.99925154e-01\n",
      " 9.99932276e-01 9.99938720e-01 9.99944551e-01 9.99949828e-01]\n"
     ]
    }
   ],
   "source": [
    "# pandas の DataFrame 型から、データ抽出とと numpy の ndarray 型へ変換\n",
    "print (np.array(data['sigmold(x)']))\n"
   ]
  },
  {
   "cell_type": "markdown",
   "metadata": {
    "id": "RW_ZdTCbvMo0"
   },
   "source": [
    "すべての列が別々の変数に格納された状態は、プログラムとしては使いにくいのでので、、<BR>\n",
    "列をを DataFrame 型の変数の右に追加していく方法を説明しておく。<BR>\n",
    "もっと便利ややりかたの情報を募集します。<BR>"
   ]
  },
  {
   "cell_type": "code",
   "execution_count": 10,
   "metadata": {
    "colab": {
     "base_uri": "https://localhost:8080/"
    },
    "id": "2G1GrBasteBa",
    "outputId": "2fc7e63b-41f1-4694-b969-aa9ca9d94fe8"
   },
   "outputs": [
    {
     "data": {
      "text/plain": [
       "(200, 1)"
      ]
     },
     "execution_count": 10,
     "metadata": {},
     "output_type": "execute_result"
    }
   ],
   "source": [
    "df1 = pd.DataFrame(x, columns=['x'])\n",
    "df1.head()\n",
    "df1.shape"
   ]
  },
  {
   "cell_type": "code",
   "execution_count": 11,
   "metadata": {
    "colab": {
     "base_uri": "https://localhost:8080/"
    },
    "id": "-wznYUAmsrZs",
    "outputId": "c5e89ca4-4185-42f9-8fa8-b2ca5c9c5631"
   },
   "outputs": [
    {
     "data": {
      "text/plain": [
       "(200, 1)"
      ]
     },
     "execution_count": 11,
     "metadata": {},
     "output_type": "execute_result"
    }
   ],
   "source": [
    "df2 = pd.DataFrame(y, columns=['sigmold(x)'])\n",
    "df2.head()\n",
    "df2.shape"
   ]
  },
  {
   "cell_type": "code",
   "execution_count": 12,
   "metadata": {
    "colab": {
     "base_uri": "https://localhost:8080/",
     "height": 204
    },
    "id": "BLj_q96pszWI",
    "outputId": "4a2391fb-ccef-45b6-b221-ca63f42675a9"
   },
   "outputs": [
    {
     "data": {
      "text/html": [
       "<div>\n",
       "<style scoped>\n",
       "    .dataframe tbody tr th:only-of-type {\n",
       "        vertical-align: middle;\n",
       "    }\n",
       "\n",
       "    .dataframe tbody tr th {\n",
       "        vertical-align: top;\n",
       "    }\n",
       "\n",
       "    .dataframe thead th {\n",
       "        text-align: right;\n",
       "    }\n",
       "</style>\n",
       "<table border=\"1\" class=\"dataframe\">\n",
       "  <thead>\n",
       "    <tr style=\"text-align: right;\">\n",
       "      <th></th>\n",
       "      <th>x</th>\n",
       "      <th>sigmold(x)</th>\n",
       "    </tr>\n",
       "  </thead>\n",
       "  <tbody>\n",
       "    <tr>\n",
       "      <th>0</th>\n",
       "      <td>-10.0</td>\n",
       "      <td>0.000045</td>\n",
       "    </tr>\n",
       "    <tr>\n",
       "      <th>1</th>\n",
       "      <td>-9.9</td>\n",
       "      <td>0.000050</td>\n",
       "    </tr>\n",
       "    <tr>\n",
       "      <th>2</th>\n",
       "      <td>-9.8</td>\n",
       "      <td>0.000055</td>\n",
       "    </tr>\n",
       "    <tr>\n",
       "      <th>3</th>\n",
       "      <td>-9.7</td>\n",
       "      <td>0.000061</td>\n",
       "    </tr>\n",
       "    <tr>\n",
       "      <th>4</th>\n",
       "      <td>-9.6</td>\n",
       "      <td>0.000068</td>\n",
       "    </tr>\n",
       "  </tbody>\n",
       "</table>\n",
       "</div>"
      ],
      "text/plain": [
       "      x  sigmold(x)\n",
       "0 -10.0    0.000045\n",
       "1  -9.9    0.000050\n",
       "2  -9.8    0.000055\n",
       "3  -9.7    0.000061\n",
       "4  -9.6    0.000068"
      ]
     },
     "execution_count": 12,
     "metadata": {},
     "output_type": "execute_result"
    }
   ],
   "source": [
    "df_concat = pd.concat([df1, df2], axis=1) # axis=1は列方向に連結、指定しないまたはまたはaxis=0のときは行連結になるので注意。\n",
    "df_concat.head()\n"
   ]
  },
  {
   "cell_type": "code",
   "execution_count": 13,
   "metadata": {
    "colab": {
     "base_uri": "https://localhost:8080/",
     "height": 204
    },
    "id": "oUwGndlQumvz",
    "outputId": "2409b728-3369-4fd1-f1b1-620c8f43f620"
   },
   "outputs": [
    {
     "data": {
      "text/html": [
       "<div>\n",
       "<style scoped>\n",
       "    .dataframe tbody tr th:only-of-type {\n",
       "        vertical-align: middle;\n",
       "    }\n",
       "\n",
       "    .dataframe tbody tr th {\n",
       "        vertical-align: top;\n",
       "    }\n",
       "\n",
       "    .dataframe thead th {\n",
       "        text-align: right;\n",
       "    }\n",
       "</style>\n",
       "<table border=\"1\" class=\"dataframe\">\n",
       "  <thead>\n",
       "    <tr style=\"text-align: right;\">\n",
       "      <th></th>\n",
       "      <th>x</th>\n",
       "      <th>sigmold(x)</th>\n",
       "      <th>sigmold(x)</th>\n",
       "    </tr>\n",
       "  </thead>\n",
       "  <tbody>\n",
       "    <tr>\n",
       "      <th>0</th>\n",
       "      <td>-10.0</td>\n",
       "      <td>0.000045</td>\n",
       "      <td>0.000045</td>\n",
       "    </tr>\n",
       "    <tr>\n",
       "      <th>1</th>\n",
       "      <td>-9.9</td>\n",
       "      <td>0.000050</td>\n",
       "      <td>0.000050</td>\n",
       "    </tr>\n",
       "    <tr>\n",
       "      <th>2</th>\n",
       "      <td>-9.8</td>\n",
       "      <td>0.000055</td>\n",
       "      <td>0.000055</td>\n",
       "    </tr>\n",
       "    <tr>\n",
       "      <th>3</th>\n",
       "      <td>-9.7</td>\n",
       "      <td>0.000061</td>\n",
       "      <td>0.000061</td>\n",
       "    </tr>\n",
       "    <tr>\n",
       "      <th>4</th>\n",
       "      <td>-9.6</td>\n",
       "      <td>0.000068</td>\n",
       "      <td>0.000068</td>\n",
       "    </tr>\n",
       "  </tbody>\n",
       "</table>\n",
       "</div>"
      ],
      "text/plain": [
       "      x  sigmold(x)  sigmold(x)\n",
       "0 -10.0    0.000045    0.000045\n",
       "1  -9.9    0.000050    0.000050\n",
       "2  -9.8    0.000055    0.000055\n",
       "3  -9.7    0.000061    0.000061\n",
       "4  -9.6    0.000068    0.000068"
      ]
     },
     "execution_count": 13,
     "metadata": {},
     "output_type": "execute_result"
    }
   ],
   "source": [
    "df_concat = pd.concat([df_concat, df2], axis=1) # 後ろに追加してみる。\n",
    "df_concat.head()"
   ]
  },
  {
   "cell_type": "code",
   "execution_count": 14,
   "metadata": {
    "id": "_jNdNVQVqSwK"
   },
   "outputs": [],
   "source": [
    "# CSVファイルへの保存\n",
    "df_concat.to_csv(output_dir + \"sigmoid2.csv\", index=False)"
   ]
  },
  {
   "cell_type": "code",
   "execution_count": 14,
   "metadata": {
    "id": "ZaSYXh6jr0wV"
   },
   "outputs": [],
   "source": []
  }
 ],
 "metadata": {
  "colab": {
   "collapsed_sections": [],
   "name": "note1-3.ipynb",
   "provenance": []
  },
  "kernelspec": {
   "display_name": "Python 3",
   "language": "python",
   "name": "python3"
  },
  "language_info": {
   "codemirror_mode": {
    "name": "ipython",
    "version": 3
   },
   "file_extension": ".py",
   "mimetype": "text/x-python",
   "name": "python",
   "nbconvert_exporter": "python",
   "pygments_lexer": "ipython3",
   "version": "3.7.4"
  }
 },
 "nbformat": 4,
 "nbformat_minor": 1
}
