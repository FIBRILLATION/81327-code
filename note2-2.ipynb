{
 "cells": [
  {
   "cell_type": "code",
   "execution_count": 24,
   "metadata": {
    "executionInfo": {
     "elapsed": 635,
     "status": "ok",
     "timestamp": 1633066910353,
     "user": {
      "displayName": "Yukako Tohsato",
      "photoUrl": "https://lh3.googleusercontent.com/a-/AOh14GjgD0pr7f2d920V3MXJxywAnc2ckiScpZ_Yq_KuoA=s64",
      "userId": "10733751753477417437"
     },
     "user_tz": -540
    },
    "id": "adNrNAc4YWAC"
   },
   "outputs": [],
   "source": [
    "import numpy as np\n",
    "import matplotlib.pyplot as plt\n",
    "%matplotlib inline\n"
   ]
  },
  {
   "cell_type": "markdown",
   "metadata": {
    "id": "27IBz5VKsygm"
   },
   "source": [
    "# 連続確率分布\n",
    "*   一様分布\n",
    "*   ガンマ分布\n",
    "*   ベータ分布\n",
    "*   ディリクレ分布\n",
    "*   (単一)ガウス分布\n"
   ]
  },
  {
   "cell_type": "markdown",
   "metadata": {
    "id": "5AcISKSYYnac"
   },
   "source": [
    "## 連続確率分布\n",
    "\n",
    "### 一様分布\n",
    "\n",
    "区間 [$\\alpha$, $\\beta$] を指定する。\n",
    "\n",
    "利用法\n",
    "*   SciPy:\tscipy.stats.uniform($\\alpha$, $\\beta$)\n",
    "*   NumPy:\tnp.random.uniform($\\alpha$, $\\beta$)\n",
    "*   Stan:\tuniform($\\alpha$, $\\beta$)"
   ]
  },
  {
   "cell_type": "code",
   "execution_count": 25,
   "metadata": {
    "executionInfo": {
     "elapsed": 946,
     "status": "ok",
     "timestamp": 1633066912884,
     "user": {
      "displayName": "Yukako Tohsato",
      "photoUrl": "https://lh3.googleusercontent.com/a-/AOh14GjgD0pr7f2d920V3MXJxywAnc2ckiScpZ_Yq_KuoA=s64",
      "userId": "10733751753477417437"
     },
     "user_tz": -540
    },
    "id": "KIACkMyWYjzs"
   },
   "outputs": [],
   "source": [
    "from scipy.stats import uniform"
   ]
  },
  {
   "cell_type": "code",
   "execution_count": 26,
   "metadata": {
    "colab": {
     "base_uri": "https://localhost:8080/",
     "height": 367
    },
    "executionInfo": {
     "elapsed": 5,
     "status": "ok",
     "timestamp": 1633066913288,
     "user": {
      "displayName": "Yukako Tohsato",
      "photoUrl": "https://lh3.googleusercontent.com/a-/AOh14GjgD0pr7f2d920V3MXJxywAnc2ckiScpZ_Yq_KuoA=s64",
      "userId": "10733751753477417437"
     },
     "user_tz": -540
    },
    "id": "kplnzGq5bzTJ",
    "outputId": "e2b53add-1176-4527-fc76-d1f421204b76"
   },
   "outputs": [
    {
     "data": {
      "text/plain": [
       "(array([0.91034749, 0.92035131, 1.01038568, 0.95036277, 1.07040859,\n",
       "        1.00038186, 1.19045441, 0.91034749, 1.00038186, 1.04039714]),\n",
       " array([3.67919007e-04, 1.00329748e-01, 2.00291576e-01, 3.00253405e-01,\n",
       "        4.00215233e-01, 5.00177062e-01, 6.00138890e-01, 7.00100719e-01,\n",
       "        8.00062547e-01, 9.00024376e-01, 9.99986204e-01]),\n",
       " <a list of 10 Patch objects>)"
      ]
     },
     "execution_count": 26,
     "metadata": {},
     "output_type": "execute_result"
    },
    {
     "data": {
      "image/png": "[encoded data removed]",
      "text/plain": [
       "<Figure size 432x288 with 1 Axes>"
      ]
     },
     "metadata": {
      "needs_background": "light"
     },
     "output_type": "display_data"
    }
   ],
   "source": [
    "p = uniform(0, 1)\n",
    "\n",
    "x = np.linspace(0, 1, 100)\n",
    "plt.plot(x, p.pdf(x), color=\"black\")\n",
    "plt.hist(p.rvs(1000), density=True, alpha=0.5) # densityオプションで確率に変更できる"
   ]
  },
  {
   "cell_type": "markdown",
   "metadata": {
    "id": "GNG96sks0JHm"
   },
   "source": [
    "### ガンマ分布\n",
    "\n",
    "\n",
    "$ \\displaystyle\n",
    "P(x|\\alpha, \\beta) = \\frac{\\beta^\\alpha x^{\\alpha-1}e^{-\\beta x}}{\\Gamma(\\alpha)}\n",
    "$\n",
    "\n",
    "もしくは、\n",
    "\n",
    "$ \\displaystyle\n",
    "P(x|\\alpha, \\theta) = \\frac{x^{\\alpha-1}e^{-\\frac{x}{\\theta}}}{\\Gamma(\\alpha)\\theta^\\alpha }\n",
    "$\n",
    "\n",
    "利用法\n",
    "*   SciPy:\tscipy.stats.gamma($\\alpha$, loc=0, scale=$1/\\beta$)\n",
    "*   NumPy:\tnp.random.gamma($\\alpha$, $1/\\beta$)\n",
    "*   Stan:\tgamma($\\alpha$, $\\beta$)"
   ]
  },
  {
   "cell_type": "code",
   "execution_count": 6,
   "metadata": {
    "executionInfo": {
     "elapsed": 478,
     "status": "ok",
     "timestamp": 1633066420061,
     "user": {
      "displayName": "Yukako Tohsato",
      "photoUrl": "https://lh3.googleusercontent.com/a-/AOh14GjgD0pr7f2d920V3MXJxywAnc2ckiScpZ_Yq_KuoA=s64",
      "userId": "10733751753477417437"
     },
     "user_tz": -540
    },
    "id": "Vkg46F-w0L8D"
   },
   "outputs": [],
   "source": [
    "from scipy.stats import gamma"
   ]
  },
  {
   "cell_type": "code",
   "execution_count": 43,
   "metadata": {
    "colab": {
     "base_uri": "https://localhost:8080/",
     "height": 282
    },
    "executionInfo": {
     "elapsed": 405,
     "status": "ok",
     "timestamp": 1633068046639,
     "user": {
      "displayName": "Yukako Tohsato",
      "photoUrl": "https://lh3.googleusercontent.com/a-/AOh14GjgD0pr7f2d920V3MXJxywAnc2ckiScpZ_Yq_KuoA=s64",
      "userId": "10733751753477417437"
     },
     "user_tz": -540
    },
    "id": "HoHT8XB10Om4",
    "outputId": "f786a21c-d979-4d8d-8907-f86d39fec50f"
   },
   "outputs": [
    {
     "data": {
      "text/plain": [
       "<matplotlib.legend.Legend at 0x7f45f2724350>"
      ]
     },
     "execution_count": 43,
     "metadata": {},
     "output_type": "execute_result"
    },
    {
     "data": {
      "image/png": "[encoded data removed]",
      "text/plain": [
       "<Figure size 432x288 with 1 Axes>"
      ]
     },
     "metadata": {
      "needs_background": "light"
     },
     "output_type": "display_data"
    }
   ],
   "source": [
    "# 教科書教科書 2.3.3節 ガンマ分布 図2.9の再現\n",
    "n = 1000\n",
    "_alpha_list = [1.0, 2.0, 2.0]\n",
    "_beta_list  = [1.0, 2.0, 0.5]\n",
    "\n",
    "x = np.linspace(0,10,n)\n",
    "for _alpha, _beta in zip(_alpha_list, _beta_list):\n",
    "    y = gamma.pdf(x,_alpha,scale=1/_beta)\n",
    "    plt.plot(x,y,label=\"$\\\\alpha = {}, \\\\beta = {}$\".format(_alpha, _beta))\n",
    "\n",
    "plt.legend()"
   ]
  },
  {
   "cell_type": "code",
   "execution_count": 44,
   "metadata": {
    "colab": {
     "base_uri": "https://localhost:8080/",
     "height": 371
    },
    "executionInfo": {
     "elapsed": 782,
     "status": "ok",
     "timestamp": 1633068050382,
     "user": {
      "displayName": "Yukako Tohsato",
      "photoUrl": "https://lh3.googleusercontent.com/a-/AOh14GjgD0pr7f2d920V3MXJxywAnc2ckiScpZ_Yq_KuoA=s64",
      "userId": "10733751753477417437"
     },
     "user_tz": -540
    },
    "id": "21sB8xAl0RXk",
    "outputId": "99531d7d-1a02-4156-da5f-894e786b3663"
   },
   "outputs": [
    {
     "data": {
      "text/plain": [
       "(array([3.072e+03, 3.820e+03, 1.958e+03, 7.700e+02, 2.710e+02, 7.100e+01,\n",
       "        2.500e+01, 1.100e+01, 1.000e+00, 1.000e+00]),\n",
       " array([ 0.52569923,  2.01093777,  3.49617632,  4.98141486,  6.46665341,\n",
       "         7.95189195,  9.4371305 , 10.92236904, 12.40760759, 13.89284613,\n",
       "        15.37808468]),\n",
       " <a list of 10 Patch objects>)"
      ]
     },
     "execution_count": 44,
     "metadata": {},
     "output_type": "execute_result"
    },
    {
     "data": {
      "image/png": "[encoded data removed]",
      "text/plain": [
       "<Figure size 432x288 with 1 Axes>"
      ]
     },
     "metadata": {
      "needs_background": "light"
     },
     "output_type": "display_data"
    }
   ],
   "source": [
    "# 同様に、サンプリングを行い、ヒストグラムを作成し、上記の確率密度関数が正しいことを確認します。\n",
    "# 𝛼=2.0,𝛽=2.5 のヒストグラムを作成します。\n",
    "\n",
    "_alpha = 2.0\n",
    "_alpha = 2.5\n",
    "\n",
    "\n",
    "plt.hist(gamma.rvs(_alpha, _beta, size=10000), bins=10)"
   ]
  },
  {
   "cell_type": "markdown",
   "metadata": {
    "id": "KJd8kkC8z8c9"
   },
   "source": [
    "### ベータ分布\n",
    "\n",
    "\n",
    "$ \\displaystyle\n",
    "Beta(\\mu | a, b ) = C_B (a,b) \\mu^{a-1}(1-\\mu)^{b-1} \n",
    "$\n",
    "\n",
    "$ \\displaystyle\n",
    "C_B(a,b) = \\frac{\\Gamma(a+b)}{\\Gamma(a) \\Gamma(b)}\n",
    "$\n",
    "\n",
    "確率変数 $\\mu$ は $\\mu \\in [0,1]$ で、$a$, $b$, はともに正の実数、$\\Gamma(.)$はガンマ関数で、$C_B(a,b)$ は値が0と1の間に入るよう正規化を担っている。"
   ]
  },
  {
   "cell_type": "code",
   "execution_count": 45,
   "metadata": {
    "executionInfo": {
     "elapsed": 399,
     "status": "ok",
     "timestamp": 1633068052472,
     "user": {
      "displayName": "Yukako Tohsato",
      "photoUrl": "https://lh3.googleusercontent.com/a-/AOh14GjgD0pr7f2d920V3MXJxywAnc2ckiScpZ_Yq_KuoA=s64",
      "userId": "10733751753477417437"
     },
     "user_tz": -540
    },
    "id": "jYXDFKs2YyHJ"
   },
   "outputs": [],
   "source": [
    "from scipy.stats import beta\n",
    "\n",
    "# 確率密度関数は PDF\n",
    "# - pdf : probability density function 確率密度関数 "
   ]
  },
  {
   "cell_type": "code",
   "execution_count": 28,
   "metadata": {
    "executionInfo": {
     "elapsed": 4,
     "status": "ok",
     "timestamp": 1633067648606,
     "user": {
      "displayName": "Yukako Tohsato",
      "photoUrl": "https://lh3.googleusercontent.com/a-/AOh14GjgD0pr7f2d920V3MXJxywAnc2ckiScpZ_Yq_KuoA=s64",
      "userId": "10733751753477417437"
     },
     "user_tz": -540
    },
    "id": "6ZAuj0n30eM7"
   },
   "outputs": [],
   "source": [
    "beta?"
   ]
  },
  {
   "cell_type": "code",
   "execution_count": 41,
   "metadata": {
    "colab": {
     "base_uri": "https://localhost:8080/",
     "height": 296
    },
    "executionInfo": {
     "elapsed": 625,
     "status": "ok",
     "timestamp": 1633068021534,
     "user": {
      "displayName": "Yukako Tohsato",
      "photoUrl": "https://lh3.googleusercontent.com/a-/AOh14GjgD0pr7f2d920V3MXJxywAnc2ckiScpZ_Yq_KuoA=s64",
      "userId": "10733751753477417437"
     },
     "user_tz": -540
    },
    "id": "rQ2WXRmQ0wsp",
    "outputId": "b9f4955d-7b32-4f29-be5e-4653c177cdfa"
   },
   "outputs": [
    {
     "data": {
      "text/plain": [
       "<matplotlib.legend.Legend at 0x7f45f3071050>"
      ]
     },
     "execution_count": 41,
     "metadata": {},
     "output_type": "execute_result"
    },
    {
     "data": {
      "image/png": "[encoded data removed]",
      "text/plain": [
       "<Figure size 432x288 with 1 Axes>"
      ]
     },
     "metadata": {
      "needs_background": "light"
     },
     "output_type": "display_data"
    }
   ],
   "source": [
    "# 教科書 2.3.1 ベータ関数 図2.7の再現\n",
    "n = 1000\n",
    "alpha_list = [0.5, 0.6, 1.0, 10.0, 10.0]\n",
    "beta_list  = [0.5, 0.8, 1.0, 40.0,  5.0]\n",
    "\n",
    "x = np.linspace(0, 1, n)\n",
    "for _alpha,_beta in zip(alpha_list, beta_list):\n",
    "    y = beta.pdf(x, _alpha, _beta)\n",
    "    plt.plot(x,y,label=\"$\\\\alpha=$\" + str(_alpha) + \", $\\\\beta=$\" + str(_beta))\n",
    "\n",
    "plt.xlabel(\"$x$\")\n",
    "plt.ylabel(\"$p(x)$\")\n",
    "plt.legend()"
   ]
  },
  {
   "cell_type": "code",
   "execution_count": 13,
   "metadata": {
    "colab": {
     "base_uri": "https://localhost:8080/",
     "height": 367
    },
    "executionInfo": {
     "elapsed": 420,
     "status": "ok",
     "timestamp": 1633066436809,
     "user": {
      "displayName": "Yukako Tohsato",
      "photoUrl": "https://lh3.googleusercontent.com/a-/AOh14GjgD0pr7f2d920V3MXJxywAnc2ckiScpZ_Yq_KuoA=s64",
      "userId": "10733751753477417437"
     },
     "user_tz": -540
    },
    "id": "SoR2-Eov0zc6",
    "outputId": "335eb57e-3811-478a-9d73-7313e0ed72ed"
   },
   "outputs": [
    {
     "data": {
      "text/plain": [
       "(array([0.41875691, 0.78516922, 1.24580182, 1.45518028, 1.44471136,\n",
       "        1.3714289 , 1.3295532 , 1.30861536, 0.75376245, 0.35594338]),\n",
       " array([0.01695633, 0.11247714, 0.20799795, 0.30351876, 0.39903957,\n",
       "        0.49456038, 0.59008119, 0.685602  , 0.78112281, 0.87664362,\n",
       "        0.97216443]),\n",
       " <a list of 10 Patch objects>)"
      ]
     },
     "execution_count": 13,
     "metadata": {},
     "output_type": "execute_result"
    },
    {
     "data": {
      "image/png": "[encoded data removed]",
      "text/plain": [
       "<Figure size 432x288 with 1 Axes>"
      ]
     },
     "metadata": {
      "needs_background": "light"
     },
     "output_type": "display_data"
    }
   ],
   "source": [
    "# 𝛼=2,𝛽=2 のベータ関数に対してサンプリングを行いヒストグラム表示して、確率密度関数が確かに正しいことを確認します。\n",
    "# 上記の 𝛼=2,𝛽=2 のベータ関数と形状が一致する事が分かります。\n",
    "\n",
    "_alpha = 2\n",
    "_beta = 2\n",
    "\n",
    "X = beta(_alpha, _beta)\n",
    "x = np.linspace(0, 1, 100)\n",
    "\n",
    "plt.plot(x, X.pdf(x), color=\"black\")\n",
    "plt.hist(X.rvs(1000), density=True, alpha=0.5)"
   ]
  },
  {
   "cell_type": "markdown",
   "metadata": {
    "id": "XTRj7En7XScn"
   },
   "source": [
    "## ディリクレ分布\n",
    "\n",
    "ベルヌーイ分布を多変数版です。カテゴリ分布および多項分布のパラメータの分布としてよく出ます。例えば，サイコロの各出目がその確率になる確率を計算できます。\n",
    "\n",
    "$ \\displaystyle\n",
    "Dir(\\boldsymbol{\\pi}| \\boldsymbol{\\alpha}) = C_D(\\boldsymbol{\\alpha}) \\prod_{k=1}^K \\pi_k^{\\alpha_k - 1}\n",
    "$\n",
    "\n",
    "$ \\displaystyle\n",
    "正則化定数 C_D(\\boldsymbol{\\alpha}) = \\frac{\\Gamma(\\sum^K_{k=1}\\alpha_k)}{\\prod^K_{k=1}\\Gamma(\\alpha_k)}\n",
    "$\n",
    "\n",
    "$\\pi_k$ は 0/1のの one-hot ベクトル。$\\alpha_k$ は正の実数で、関数 $\\Gamma() はガンマ関数$"
   ]
  },
  {
   "cell_type": "code",
   "execution_count": 63,
   "metadata": {
    "executionInfo": {
     "elapsed": 471,
     "status": "ok",
     "timestamp": 1633068844554,
     "user": {
      "displayName": "Yukako Tohsato",
      "photoUrl": "https://lh3.googleusercontent.com/a-/AOh14GjgD0pr7f2d920V3MXJxywAnc2ckiScpZ_Yq_KuoA=s64",
      "userId": "10733751753477417437"
     },
     "user_tz": -540
    },
    "id": "ZEdN7OQVXQ0c"
   },
   "outputs": [],
   "source": [
    "from scipy.stats import dirichlet"
   ]
  },
  {
   "cell_type": "code",
   "execution_count": 64,
   "metadata": {
    "colab": {
     "base_uri": "https://localhost:8080/"
    },
    "executionInfo": {
     "elapsed": 7,
     "status": "ok",
     "timestamp": 1633068845579,
     "user": {
      "displayName": "Yukako Tohsato",
      "photoUrl": "https://lh3.googleusercontent.com/a-/AOh14GjgD0pr7f2d920V3MXJxywAnc2ckiScpZ_Yq_KuoA=s64",
      "userId": "10733751753477417437"
     },
     "user_tz": -540
    },
    "id": "Ao6O1WvcXXPS",
    "outputId": "6261db83-d513-429f-9ed9-f945828f89f6"
   },
   "outputs": [
    {
     "name": "stdout",
     "output_type": "stream",
     "text": [
      "26.744346275061304\n",
      "4.890833353429621\n"
     ]
    }
   ],
   "source": [
    "p = dirichlet.pdf(x=(0.333, 0.333, 0.334), alpha=(11,11,11))\n",
    "print (p) \n",
    "p = dirichlet.pdf(x=(0.25, 0.25, 0.5), alpha=(11,11,11))\n",
    "print (p)"
   ]
  },
  {
   "cell_type": "code",
   "execution_count": 65,
   "metadata": {
    "colab": {
     "base_uri": "https://localhost:8080/"
    },
    "executionInfo": {
     "elapsed": 3,
     "status": "ok",
     "timestamp": 1633068847494,
     "user": {
      "displayName": "Yukako Tohsato",
      "photoUrl": "https://lh3.googleusercontent.com/a-/AOh14GjgD0pr7f2d920V3MXJxywAnc2ckiScpZ_Yq_KuoA=s64",
      "userId": "10733751753477417437"
     },
     "user_tz": -540
    },
    "id": "eGcp_3u3XXan",
    "outputId": "fdc55349-c0a6-4669-fb3f-7c8b8435eeb6"
   },
   "outputs": [
    {
     "name": "stdout",
     "output_type": "stream",
     "text": [
      "[[0.65840539 0.23007122 0.1115234 ]\n",
      " [0.63206356 0.28605196 0.08188448]\n",
      " [0.54165204 0.24510453 0.21324343]\n",
      " [0.57411818 0.27310614 0.15277568]\n",
      " [0.51063976 0.37373799 0.11562225]\n",
      " [0.49289889 0.43387397 0.07322714]\n",
      " [0.37643885 0.44680246 0.17675869]\n",
      " [0.31958505 0.49330506 0.18710989]\n",
      " [0.45803548 0.23705359 0.30491093]\n",
      " [0.4554484  0.43103471 0.11351689]\n",
      " [0.6763551  0.17106189 0.15258301]\n",
      " [0.57066135 0.22643983 0.20289882]\n",
      " [0.7560014  0.09251482 0.15148378]\n",
      " [0.56301903 0.28636551 0.15061547]\n",
      " [0.69104988 0.21834135 0.09060877]\n",
      " [0.65238364 0.16923756 0.1783788 ]\n",
      " [0.50126194 0.29078737 0.20795069]\n",
      " [0.45666546 0.24781598 0.29551856]\n",
      " [0.6329623  0.13254635 0.23449135]\n",
      " [0.56279542 0.28875735 0.14844723]]\n"
     ]
    }
   ],
   "source": [
    "r = np.random.dirichlet((10, 5, 3), 20)\n",
    "print (r)"
   ]
  },
  {
   "cell_type": "code",
   "execution_count": 75,
   "metadata": {
    "colab": {
     "base_uri": "https://localhost:8080/"
    },
    "executionInfo": {
     "elapsed": 354,
     "status": "ok",
     "timestamp": 1633069119398,
     "user": {
      "displayName": "Yukako Tohsato",
      "photoUrl": "https://lh3.googleusercontent.com/a-/AOh14GjgD0pr7f2d920V3MXJxywAnc2ckiScpZ_Yq_KuoA=s64",
      "userId": "10733751753477417437"
     },
     "user_tz": -540
    },
    "id": "Nx3w3LQ8XdBg",
    "outputId": "776c975f-21ad-476d-9c64-70619d8c3646"
   },
   "outputs": [
    {
     "name": "stdout",
     "output_type": "stream",
     "text": [
      "[[0.         0.         1.        ]\n",
      " [0.         0.01960784 0.98039216]\n",
      " [0.         0.02       0.98      ]\n",
      " ...\n",
      " [0.98039216 0.         0.01960784]\n",
      " [0.98039216 0.01960784 0.        ]\n",
      " [1.         0.         0.        ]]\n"
     ]
    }
   ],
   "source": []
  },
  {
   "cell_type": "code",
   "execution_count": 83,
   "metadata": {
    "executionInfo": {
     "elapsed": 387,
     "status": "ok",
     "timestamp": 1633069432546,
     "user": {
      "displayName": "Yukako Tohsato",
      "photoUrl": "https://lh3.googleusercontent.com/a-/AOh14GjgD0pr7f2d920V3MXJxywAnc2ckiScpZ_Yq_KuoA=s64",
      "userId": "10733751753477417437"
     },
     "user_tz": -540
    },
    "id": "9so7v46mfV5k"
   },
   "outputs": [],
   "source": [
    "# こちらの関数の中身は理解しなくて問題ありません。引数として、として、alpha_k のリストをを\n",
    "# 渡せばディリクレ分布を表示してくれると思って利用してください。\n",
    "# ただしこの可視化関数は不十分で、で、alpha_k は 1 以上でないと動きません。\n",
    "# 例えば 0.5. 0.5 0.5 はエラーとなります。もっと良い関数の実装を母中です。\n",
    "def plot_gamma (alpha_k):\n",
    "  # 作図用の点を設定\n",
    "  point_vec = np.arange(0.0, 1.001, 0.02)\n",
    "\n",
    "  # 格子状の点を作成\n",
    "  X, Y, Z = np.meshgrid(point_vec, point_vec, point_vec)\n",
    "\n",
    "  # 確率密度の計算用にまとめる\n",
    "  pi_point = np.array([list(X.flatten()), list(Y.flatten()), list(Z.flatten())]).T\n",
    "  pi_point = pi_point[1:, :] # (0, 0, 0)の行を除去\n",
    "  pi_point /= np.sum(pi_point, axis=1, keepdims=True) # 正規化\n",
    "  pi_point = np.unique(pi_point, axis=0) # 重複を除去\n",
    "\n",
    "  # 事前分布(ディリクレ分布)の確率密度を計算:SciPy ver\n",
    "  dist = np.array([dirichlet.pdf(x=pi_point[i], alpha=alpha_k) for i in range(len(pi_point))])\n",
    "\n",
    "  # 三角座標に変換\n",
    "  tri_x = pi_point[:, 1] + pi_point[:, 2] / 2\n",
    "  tri_y = np.sqrt(3) * pi_point[:, 2] / 2\n",
    "\n",
    "  plt.scatter(tri_x, tri_y, c=dist, cmap='jet') # 分布\n",
    "  plt.xlabel('$\\pi_1, \\pi_2$') # x軸ラベル\n",
    "  plt.ylabel('$\\pi_1, \\pi_3$') # y軸ラベル\n",
    "  plt.xticks(ticks=[0.0, 1.0], labels=['(1, 0, 0)', '(0, 1, 0)']) # x軸目盛\n",
    "  plt.yticks(ticks=[0.0, 0.87], labels=['(1, 0, 0)', '(0, 0, 1)']) # y軸目盛\n",
    "  plt.title('Dirichlet Distribution: $\\\\alpha=(' + ', '.join([str(k) for k in alpha_k]) + ')$')\n",
    "  plt.colorbar() # 凡例\n",
    "  plt.gca().set_aspect('equal') # アスペクト比\n",
    "  plt.show() \n"
   ]
  },
  {
   "cell_type": "code",
   "execution_count": 84,
   "metadata": {
    "colab": {
     "base_uri": "https://localhost:8080/",
     "height": 299
    },
    "executionInfo": {
     "elapsed": 11987,
     "status": "ok",
     "timestamp": 1633069478417,
     "user": {
      "displayName": "Yukako Tohsato",
      "photoUrl": "https://lh3.googleusercontent.com/a-/AOh14GjgD0pr7f2d920V3MXJxywAnc2ckiScpZ_Yq_KuoA=s64",
      "userId": "10733751753477417437"
     },
     "user_tz": -540
    },
    "id": "XRR2QHRfgIwB",
    "outputId": "3a1a0b66-9bd4-4e2c-db50-f7c18ef2cdfb"
   },
   "outputs": [
    {
     "data": {
      "image/png": "[encoded data removed]",
      "text/plain": [
       "<Figure size 432x288 with 2 Axes>"
      ]
     },
     "metadata": {
      "needs_background": "light"
     },
     "output_type": "display_data"
    }
   ],
   "source": [
    "# 2.3.2節節 ディリクレ分布 の図2.8の再現\n",
    "alpha_k = [1.0, 1.0, 1.0]\n",
    "plot_gamma(alpha_k)"
   ]
  },
  {
   "cell_type": "code",
   "execution_count": 85,
   "metadata": {
    "colab": {
     "base_uri": "https://localhost:8080/",
     "height": 299
    },
    "executionInfo": {
     "elapsed": 12130,
     "status": "ok",
     "timestamp": 1633069501558,
     "user": {
      "displayName": "Yukako Tohsato",
      "photoUrl": "https://lh3.googleusercontent.com/a-/AOh14GjgD0pr7f2d920V3MXJxywAnc2ckiScpZ_Yq_KuoA=s64",
      "userId": "10733751753477417437"
     },
     "user_tz": -540
    },
    "id": "aLJSOm6shp6E",
    "outputId": "9fdf8b9e-92f4-4548-c396-e9cc1d671869"
   },
   "outputs": [
    {
     "data": {
      "image/png": "[encoded data removed]",
      "text/plain": [
       "<Figure size 432x288 with 2 Axes>"
      ]
     },
     "metadata": {
      "needs_background": "light"
     },
     "output_type": "display_data"
    }
   ],
   "source": [
    "alpha_k = [10.0, 10.0, 10.0]\n",
    "plot_gamma(alpha_k)"
   ]
  },
  {
   "cell_type": "code",
   "execution_count": 86,
   "metadata": {
    "executionInfo": {
     "elapsed": 299,
     "status": "ok",
     "timestamp": 1633069503474,
     "user": {
      "displayName": "Yukako Tohsato",
      "photoUrl": "https://lh3.googleusercontent.com/a-/AOh14GjgD0pr7f2d920V3MXJxywAnc2ckiScpZ_Yq_KuoA=s64",
      "userId": "10733751753477417437"
     },
     "user_tz": -540
    },
    "id": "bMLt_sRwg401"
   },
   "outputs": [],
   "source": [
    "#alpha_k = [0.5, 0.5, 0.5]\n",
    "#plot_gamma(alpha_k)"
   ]
  },
  {
   "cell_type": "markdown",
   "metadata": {
    "id": "GIGB-2QIaFzN"
   },
   "source": [
    "## ガウス分布\n",
    "\n",
    "正規分布は最も良く使われる確率分布です。その詳細は教科書に書かれているので割愛します。ここではscipyによる利用方法にとどめます。\n",
    "\n",
    "$\n",
    "\\displaystyle P\\left( x \\| \\mu, \\sigma \\right) = \\frac{1}{\\sqrt{2 \\pi \\sigma^2}} \\exp \\left( - \\frac{(x-\\mu)^2}{2 \\sigma^2} \\right)\n",
    "$\n",
    "\n",
    "利用法\n",
    "*   SciPy:\tscipy.stats.norm($\\mu$, $\\sigma$)\n",
    "*   NumPy:\tnp.random.normal($\\mu$, $\\sigma$, size=None)\n",
    "*   Stan:\tnormal($\\mu$, $\\sigma$)"
   ]
  },
  {
   "cell_type": "code",
   "execution_count": 14,
   "metadata": {
    "executionInfo": {
     "elapsed": 5,
     "status": "ok",
     "timestamp": 1633066440208,
     "user": {
      "displayName": "Yukako Tohsato",
      "photoUrl": "https://lh3.googleusercontent.com/a-/AOh14GjgD0pr7f2d920V3MXJxywAnc2ckiScpZ_Yq_KuoA=s64",
      "userId": "10733751753477417437"
     },
     "user_tz": -540
    },
    "id": "_ohyabaK0vwQ"
   },
   "outputs": [],
   "source": [
    "from scipy.stats import norm # 正規分布"
   ]
  },
  {
   "cell_type": "code",
   "execution_count": 87,
   "metadata": {
    "colab": {
     "base_uri": "https://localhost:8080/",
     "height": 279
    },
    "executionInfo": {
     "elapsed": 476,
     "status": "ok",
     "timestamp": 1633070112178,
     "user": {
      "displayName": "Yukako Tohsato",
      "photoUrl": "https://lh3.googleusercontent.com/a-/AOh14GjgD0pr7f2d920V3MXJxywAnc2ckiScpZ_Yq_KuoA=s64",
      "userId": "10733751753477417437"
     },
     "user_tz": -540
    },
    "id": "yKjxdjWJY6si",
    "outputId": "396e0e1e-046a-4f41-9970-9dce91c9d303"
   },
   "outputs": [
    {
     "data": {
      "image/png": "[encoded data removed]",
      "text/plain": [
       "<Figure size 432x288 with 1 Axes>"
      ]
     },
     "metadata": {
      "needs_background": "light"
     },
     "output_type": "display_data"
    }
   ],
   "source": [
    "# scipy でPDFを、そして、numpy でデータをランダムサンプリングして、ヒストグラム表示してみます。ちゃんと確率密度関数を再現できていることがわかります。\n",
    "\n",
    "mu = 0\n",
    "sigma = 1\n",
    "\n",
    "x = np.arange(-5, 5, 0.01)\n",
    "y = norm.pdf(x, mu, sigma) # 平均0標準偏差1を代入\n",
    "y2 = norm.rvs(mu, sigma, size=1000)\n",
    "\n",
    "plt.plot(x,y, color=\"black\")\n",
    "plt.hist(y2, density=True, alpha=0.5) # density で割合に修正していることに注意\n",
    "plt.xlabel('$x$')\n",
    "plt.ylabel('$P(x)$')\n",
    "\n",
    "plt.show()\n"
   ]
  },
  {
   "cell_type": "code",
   "execution_count": 47,
   "metadata": {
    "colab": {
     "base_uri": "https://localhost:8080/",
     "height": 296
    },
    "executionInfo": {
     "elapsed": 383,
     "status": "ok",
     "timestamp": 1633068219586,
     "user": {
      "displayName": "Yukako Tohsato",
      "photoUrl": "https://lh3.googleusercontent.com/a-/AOh14GjgD0pr7f2d920V3MXJxywAnc2ckiScpZ_Yq_KuoA=s64",
      "userId": "10733751753477417437"
     },
     "user_tz": -540
    },
    "id": "z3_KedzacVHU",
    "outputId": "5bc6df53-266a-4ae2-f41f-f89030b705d0"
   },
   "outputs": [
    {
     "data": {
      "text/plain": [
       "<matplotlib.legend.Legend at 0x7f45f25ab350>"
      ]
     },
     "execution_count": 47,
     "metadata": {},
     "output_type": "execute_result"
    },
    {
     "data": {
      "image/png": "[encoded data removed]",
      "text/plain": [
       "<Figure size 432x288 with 1 Axes>"
      ]
     },
     "metadata": {
      "needs_background": "light"
     },
     "output_type": "display_data"
    }
   ],
   "source": [
    "# 教科書 2.3.4 1次元ガウス分布 図2.10の再現\n",
    "n = 1000\n",
    "mu_list     = [0.0, 2.0, -5.0]\n",
    "sigma_list  = [1.0, 2.0, 0.3]\n",
    "\n",
    "x = np.linspace(-10, 10, n)\n",
    "for _mu,_sigma in zip(mu_list, sigma_list):\n",
    "    y = norm.pdf(x, _mu, _sigma)\n",
    "    plt.plot(x,y,label=\"$\\\\alpha=$\" + str(_alpha) + \", $\\\\beta=$\" + str(_beta))\n",
    "\n",
    "plt.xlabel(\"$x$\")\n",
    "plt.ylabel(\"$p(x)$\")\n",
    "plt.legend()"
   ]
  },
  {
   "cell_type": "markdown",
   "metadata": {
    "id": "RjnnUe7o1Dfo"
   },
   "source": [
    "### 多変量ガウス分布\n",
    "\n",
    "統計モデリングでは相関関係のある多変数ガウス分布からサンプリングする事があります。\n",
    "\n",
    "$$ \\displaystyle\n",
    "P(x| \\mu, \\Sigma) = \\frac{1}{\\sqrt{(2 \\pi)^{k} \\det\\Sigma}} \\exp \\left( - \\frac{(x-\\mu)^{T}\\Sigma^{-1}(x-\\mu)}{2} \\right)\n",
    "$$\n",
    "\n",
    "$\\Sigma$は共分散行列、$\\mu$はそれぞれの確率変数の平均です。2次元以上の場合はベクトルになります。\n",
    "\n",
    "$\\Sigma$を操作することで、変数間の相関を設定すること出来ます。\n",
    "\n",
    "$$\n",
    "  \\Sigma = \\left(\n",
    "    \\begin{array}{cc}\n",
    "      \\sigma_{x_1}^2 & \\sigma_{x_1x_2} \\\\\\\\\n",
    "      \\sigma_{x_1x_2} & \\sigma_{x_2}^2\n",
    "    \\end{array}\n",
    "  \\right)\n",
    "$$"
   ]
  },
  {
   "cell_type": "code",
   "execution_count": 17,
   "metadata": {
    "executionInfo": {
     "elapsed": 412,
     "status": "ok",
     "timestamp": 1633066446835,
     "user": {
      "displayName": "Yukako Tohsato",
      "photoUrl": "https://lh3.googleusercontent.com/a-/AOh14GjgD0pr7f2d920V3MXJxywAnc2ckiScpZ_Yq_KuoA=s64",
      "userId": "10733751753477417437"
     },
     "user_tz": -540
    },
    "id": "-qeM_DQE1Bhg"
   },
   "outputs": [],
   "source": [
    "from scipy.stats import multivariate_normal"
   ]
  },
  {
   "cell_type": "code",
   "execution_count": null,
   "metadata": {
    "id": "YJPmWm151Gfx"
   },
   "outputs": [],
   "source": []
  }
 ],
 "metadata": {
  "colab": {
   "authorship_tag": "ABX9TyPX8ifZ4lhw3FRX1JFqdjZU",
   "collapsed_sections": [],
   "name": "note2-2.ipynb",
   "provenance": []
  },
  "kernelspec": {
   "display_name": "Python 3",
   "language": "python",
   "name": "python3"
  },
  "language_info": {
   "codemirror_mode": {
    "name": "ipython",
    "version": 3
   },
   "file_extension": ".py",
   "mimetype": "text/x-python",
   "name": "python",
   "nbconvert_exporter": "python",
   "pygments_lexer": "ipython3",
   "version": "3.7.4"
  }
 },
 "nbformat": 4,
 "nbformat_minor": 1
}
